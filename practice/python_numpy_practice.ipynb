{
  "nbformat": 4,
  "nbformat_minor": 0,
  "metadata": {
    "language_info": {
      "codemirror_mode": {
        "name": "ipython",
        "version": 3
      },
      "file_extension": ".py",
      "mimetype": "text/x-python",
      "name": "python",
      "nbconvert_exporter": "python",
      "pygments_lexer": "ipython3",
      "version": "3.6.9-final"
    },
    "orig_nbformat": 2,
    "kernelspec": {
      "name": "python_defaultSpec_1598868128179",
      "display_name": "Python 3.6.9 64-bit"
    },
    "colab": {
      "name": "PythonNumpy_interactive_practice.ipynb",
      "provenance": [],
      "collapsed_sections": [
        "kAtXgF9lMHpQ"
      ]
    }
  },
  "cells": [
    {
      "cell_type": "markdown",
      "metadata": {
        "id": "I0UgruO1MHo-",
        "colab_type": "text"
      },
      "source": [
        "# Linear Algebra for Electrical System (2020-Fall)\n",
        "#  *Python & Numpy Tutorial*\n",
        "## Instructor: Young Min Kim\n",
        "### Teaching Assistants: Cheol-Hui Min & Dongsu Zhang\n",
        "### Contact: ta.linear.2020@gmail.com / Bldg: 301 - Rm: 916\n",
        "\n",
        "\n",
        "---\n"
      ]
    },
    {
      "cell_type": "markdown",
      "metadata": {
        "id": "U8YfzZ5kMHpF",
        "colab_type": "text"
      },
      "source": [
        "# Python Overview\n",
        "\n",
        "\n",
        "\n",
        "*Well this is what the Python website has to say.\n",
        "Python is powerful,\n",
        "you'l find that you'll be able to accomplish\n",
        "in just a few lines of Python\n",
        "what might have taken three or five times\n",
        "as many lines in another language,\n",
        "like java or C++.*\n",
        "\n",
        "*Pyhton is surprisingly fast for interpretive language.\n",
        "Generally, interpretive languages can be slower\n",
        "because they'd run on top of an interpreter,\n",
        "rather than being compiled directly\n",
        "from the machine on which they're running.\n",
        "Without getting to the weeds,\n",
        "you can think of this as having a middle man\n",
        "between the code and the machine,\n",
        "which isn't there for a language like C or C++.*\n",
        "\n",
        "*So how then, is it fast?\n",
        "By having some highly optimized libraries.\n",
        "Often, when you're in C or C ++,\n",
        "which will run as fast or nearly as fast\n",
        "as comparable native C or C++ code.\n",
        "Python works well with other languages.\n",
        "In fact, it is often used as a glue language,\n",
        "running in between components written in other languages.*\n",
        "\n",
        "*And as you'll see when we get to Jupyter notebooks,\n",
        "Python plays well with other languages\n",
        "and those notebooks as well.\n",
        "Python, because it's interpreted,\n",
        "can run everywhere.*\n"
      ]
    },
    {
      "cell_type": "markdown",
      "metadata": {
        "id": "6kRhr2b3MHpG",
        "colab_type": "text"
      },
      "source": [
        "##  Why Python for data science?\n",
        "\n",
        "### Giant ecosystem of tools for connecting and working with many sources of real-world data across lots of domains.\n",
        "\n",
        "\n",
        "---\n"
      ]
    },
    {
      "cell_type": "markdown",
      "metadata": {
        "id": "Fenajf0BMHpG",
        "colab_type": "text"
      },
      "source": [
        "## 01 -  Python: Variables\n",
        "\n",
        "### Common types in Python\n",
        "\n",
        "* **Numeric** : integers, float, complex\n",
        "* **Sequence** : list, tuple, range\n",
        "* **Binary** : byte, bytearray\n",
        "* **True/False** : bool\n",
        "* **Text** : string\n"
      ]
    },
    {
      "cell_type": "code",
      "metadata": {
        "id": "Ux9YFYRhMUjL",
        "colab_type": "code",
        "colab": {
          "base_uri": "https://localhost:8080/",
          "height": 34
        },
        "outputId": "4591e71c-349d-4230-fd5c-7be815285e4f"
      },
      "source": [
        "from math import cos, sin\n",
        "a = 7 \n",
        "b = 3.14\n",
        "c = (a == 7)\n",
        "print (type(a), type(b), type(c))"
      ],
      "execution_count": null,
      "outputs": [
        {
          "output_type": "stream",
          "text": [
            "<class 'int'> <class 'float'> <class 'bool'>\n"
          ],
          "name": "stdout"
        }
      ]
    },
    {
      "cell_type": "markdown",
      "metadata": {
        "id": "AqMjrzv2MHpH",
        "colab_type": "text"
      },
      "source": [
        "* (Optional) In c, what we did for defining variables is...*\n",
        "\n",
        "      #include \"stdio.h\"\n",
        "      int main() {\n",
        "      int x = 3;\n",
        "      int y = 4;\n",
        "      printf(\"%s\"\\n, x+y);\n",
        "      }\n",
        "\n",
        "*While in Python, we do like*"
      ]
    },
    {
      "cell_type": "code",
      "metadata": {
        "tags": [],
        "id": "_y5yY1hhMHpI",
        "colab_type": "code",
        "colab": {}
      },
      "source": [
        "x = 3 # 'x' is assigned with integer value of 3\n",
        "y = 4\n",
        "z = 5.5\n",
        "v = x + y\n",
        "w = x + z"
      ],
      "execution_count": null,
      "outputs": []
    },
    {
      "cell_type": "code",
      "metadata": {
        "id": "pY5HhR7bOSAn",
        "colab_type": "code",
        "colab": {}
      },
      "source": [
        "x = float(x) # integer of 3 changes to float of 3.0\n",
        "w = int(w) # float of 8.5 is 'rounded down' to integer of 8"
      ],
      "execution_count": null,
      "outputs": []
    },
    {
      "cell_type": "code",
      "metadata": {
        "id": "ExXkuWYpPELa",
        "colab_type": "code",
        "colab": {}
      },
      "source": [
        "a = x > y # Is x(=3.0) is larger than (y=4)? >> False\n",
        "b = y < z and x < z # Is both y and x are smaller than z? >> True\n",
        "c = not b # not False >> True"
      ],
      "execution_count": null,
      "outputs": []
    },
    {
      "cell_type": "markdown",
      "metadata": {
        "id": "-23kWhPnMHpL",
        "colab_type": "text"
      },
      "source": [
        "**NOTE** *that there's no explicit declaration of \"type\"s in Python*.\n",
        "\n",
        "*What happens when we run below codes in C?*\n",
        "\n",
        "      #include \"stdio.h\"\n",
        "      int main() {\n",
        "      int x = 3;\n",
        "      x = 4.5;\n",
        "      }\n",
        "\n",
        "\n",
        "### We get an error!\n",
        "\n",
        "*While in Python,*"
      ]
    },
    {
      "cell_type": "code",
      "metadata": {
        "tags": [],
        "id": "uii9JxecMHpM",
        "colab_type": "code",
        "colab": {},
        "outputId": "c45dd2fd-f707-4e4b-83fd-6c5626673878"
      },
      "source": [
        "x = 3\n",
        "x = 4.5\n",
        "print (x, type(x))"
      ],
      "execution_count": null,
      "outputs": [
        {
          "output_type": "stream",
          "text": [
            "4.5 <class 'float'>\n"
          ],
          "name": "stdout"
        }
      ]
    },
    {
      "cell_type": "markdown",
      "metadata": {
        "id": "kAtXgF9lMHpQ",
        "colab_type": "text"
      },
      "source": [
        "### it works smoothly.\n",
        "*It's possible from the innate variable referencing and allocation of Python, which is different from C. Details are out of scope of this course, so we won't cover in class. However, if you have any question on this, feel free to ask on eTL.*\n",
        "\n",
        "\n",
        "---\n",
        "\n"
      ]
    },
    {
      "cell_type": "markdown",
      "metadata": {
        "id": "j7iHFI3AMHpR",
        "colab_type": "text"
      },
      "source": [
        "## 02 -  Python: Objects\n",
        "\n",
        "*In programming, **obect** is something that can* \n",
        "* hold data\n",
        "* has *methods* associated with it\n"
      ]
    },
    {
      "cell_type": "markdown",
      "metadata": {
        "id": "lsMm23_pMHpR",
        "colab_type": "text"
      },
      "source": [
        "*Later in this lecture and forthcoming HWs, we'll play with some linear algebra & data science libraries.*\n",
        "\n",
        "*Many of the fundamental structure of those libraries are implemented with this 'object' concept.*\n",
        "\n",
        "*Sadly, detailed concepts are also out of the scope of this course, but we're still welcome to be asked about details.*\n",
        "\n",
        "*One useful thing we want you to take in this section, is to discern 'is' from '==' in Python.*\n",
        "\n",
        "\n"
      ]
    },
    {
      "cell_type": "code",
      "metadata": {
        "id": "4_u-rhZdMHpS",
        "colab_type": "code",
        "colab": {
          "base_uri": "https://localhost:8080/",
          "height": 34
        },
        "outputId": "99755215-ec49-47e8-b45c-ec951b42f269"
      },
      "source": [
        "x = 3\n",
        "y = 3.0\n",
        "x is y"
      ],
      "execution_count": null,
      "outputs": [
        {
          "output_type": "execute_result",
          "data": {
            "text/plain": [
              "False"
            ]
          },
          "metadata": {
            "tags": []
          },
          "execution_count": 6
        }
      ]
    },
    {
      "cell_type": "markdown",
      "metadata": {
        "id": "tVsoZhFUMHpV",
        "colab_type": "text"
      },
      "source": [
        "*Here, 'is' operator compares if x and y are the same 'object', and by intuition, you'd know that they are different objects.*\n",
        "*However, what about the values of them?*\n"
      ]
    },
    {
      "cell_type": "code",
      "metadata": {
        "id": "tVsainm3MHpV",
        "colab_type": "code",
        "colab": {
          "base_uri": "https://localhost:8080/",
          "height": 34
        },
        "outputId": "a420f9cf-7221-410a-d89a-b62da1621200"
      },
      "source": [
        "x == y"
      ],
      "execution_count": null,
      "outputs": [
        {
          "output_type": "execute_result",
          "data": {
            "text/plain": [
              "True"
            ]
          },
          "metadata": {
            "tags": []
          },
          "execution_count": 7
        }
      ]
    },
    {
      "cell_type": "markdown",
      "metadata": {
        "id": "nlLJDzIiMHpZ",
        "colab_type": "text"
      },
      "source": [
        "*(Different from C) Numerical values of 3 and 3.0 are exactly the same. Thus, 'x==y' returns 'True'. You'll use these kind of expressions frequently in the future, thus be aware of this difference.*\n",
        "\n",
        "\n",
        "---\n",
        "\n"
      ]
    },
    {
      "cell_type": "markdown",
      "metadata": {
        "id": "sFTGkdZa4uHu",
        "colab_type": "text"
      },
      "source": [
        "## 03 -  Python: Loops\n",
        "\n",
        "*In doing scientific research, manytimes you need to do make recursion ro apply \n",
        "the same / similar operations repeatedly.*\n",
        "\n",
        "*In such cases, making a loop makes your life easier and even lessen the computation cost.*\n",
        "\n",
        "*The most common form of loop is to use **for** statement.*\n",
        "\n",
        "*For example, if you want to print out integer value starting from 0 to 9, you can do like*\n"
      ]
    },
    {
      "cell_type": "code",
      "metadata": {
        "id": "Oh5EF1lMPxlC",
        "colab_type": "code",
        "colab": {
          "base_uri": "https://localhost:8080/",
          "height": 187
        },
        "outputId": "3106595f-7b98-48e4-bf21-7509582aa97f"
      },
      "source": [
        "for i in range(0, 10):\n",
        "  print(i)"
      ],
      "execution_count": null,
      "outputs": [
        {
          "output_type": "stream",
          "text": [
            "0\n",
            "1\n",
            "2\n",
            "3\n",
            "4\n",
            "5\n",
            "6\n",
            "7\n",
            "8\n",
            "9\n"
          ],
          "name": "stdout"
        }
      ]
    },
    {
      "cell_type": "markdown",
      "metadata": {
        "id": "ZP9_s5WP4HrK",
        "colab_type": "text"
      },
      "source": [
        "*You should beware the usage of range() statement in making for loop.\n",
        "Note that range(0, 10) assigns our iterative variable i 0, and increase it by 1 until\n",
        "it is less than 10.*\n",
        "\n",
        "*Thus, we can see that the first integer input (argument) for range() is inclusive, while \n",
        "the second input is exclusive.*\n",
        "\n",
        "*The general form of range() statement is like*\n",
        "\n",
        "      range(start, stop[,step])\n",
        "\n",
        "*For example, we can increase the i from 0 by the amount of 2 for each iteration.*"
      ]
    },
    {
      "cell_type": "code",
      "metadata": {
        "tags": [],
        "id": "ZcQWwf6yMHpa",
        "colab_type": "code",
        "colab": {
          "base_uri": "https://localhost:8080/",
          "height": 102
        },
        "outputId": "ee575def-bcce-4d17-8b31-e50947da1c64"
      },
      "source": [
        "for i in range(0, 10, 2):\n",
        "  print (i)"
      ],
      "execution_count": null,
      "outputs": [
        {
          "output_type": "stream",
          "text": [
            "0\n",
            "2\n",
            "4\n",
            "6\n",
            "8\n"
          ],
          "name": "stdout"
        }
      ]
    },
    {
      "cell_type": "markdown",
      "metadata": {
        "id": "TJbZCyvJ_uEV",
        "colab_type": "text"
      },
      "source": [
        "*Guess the result for each for loop in the code below.*"
      ]
    },
    {
      "cell_type": "code",
      "metadata": {
        "id": "t7oWJFXw_ul2",
        "colab_type": "code",
        "colab": {
          "base_uri": "https://localhost:8080/",
          "height": 221
        },
        "outputId": "ef40b7d8-7707-47e0-b301-cd0dfa9ae6d2"
      },
      "source": [
        "for i in range(2, 12, 3):\n",
        "  print (i)\n",
        "# 2, 5, 8, 11\n",
        "for i in range(2, 13, 3):\n",
        "  print (i)\n",
        "# 2, 5, 8, 11\n",
        "for i in range(2, 14, 3):\n",
        "  print (i)\n",
        "# 2, 5, 8, 11\n"
      ],
      "execution_count": null,
      "outputs": [
        {
          "output_type": "stream",
          "text": [
            "2\n",
            "5\n",
            "8\n",
            "11\n",
            "2\n",
            "5\n",
            "8\n",
            "11\n",
            "2\n",
            "5\n",
            "8\n",
            "11\n"
          ],
          "name": "stdout"
        }
      ]
    },
    {
      "cell_type": "markdown",
      "metadata": {
        "id": "BOXjDFfp-NQN",
        "colab_type": "text"
      },
      "source": [
        "*You should also notice the indentation. In Python, codes' syntax is discerned by indentation.\n",
        "In the code below, lines print(i), and print(1.5) are indented. Thus, these two lines are affected\n",
        "by the for statement, while print(True) is not.*"
      ]
    },
    {
      "cell_type": "code",
      "metadata": {
        "id": "zHz6jCdVQwcU",
        "colab_type": "code",
        "colab": {
          "base_uri": "https://localhost:8080/",
          "height": 374
        },
        "outputId": "3b766020-c8b8-41e7-837c-1c447b42780e"
      },
      "source": [
        "for i in range(0, 10):\n",
        "  print(i) # i = 0, ..., 9 are printed\n",
        "  print(1.5) # 1.5 is printed after each i\n",
        "print(True) # True is printed just once\n",
        "# result: 0, 1,5, 1, 1.5, ..., 9, 1.5, True"
      ],
      "execution_count": null,
      "outputs": [
        {
          "output_type": "stream",
          "text": [
            "0\n",
            "1.5\n",
            "1\n",
            "1.5\n",
            "2\n",
            "1.5\n",
            "3\n",
            "1.5\n",
            "4\n",
            "1.5\n",
            "5\n",
            "1.5\n",
            "6\n",
            "1.5\n",
            "7\n",
            "1.5\n",
            "8\n",
            "1.5\n",
            "9\n",
            "1.5\n",
            "True\n"
          ],
          "name": "stdout"
        }
      ]
    },
    {
      "cell_type": "markdown",
      "metadata": {
        "id": "oj-R5TU9MHpf",
        "colab_type": "text"
      },
      "source": [
        "*We can also use 'while' loop, and this is powerful when we don't know how many steps we want to interate.\n",
        "Instead, we can set more sophisticated condition to stop the iteration. Like stopping the iteration of \n",
        "numerical interation at some threshold of error.*\n",
        "\n",
        "\n",
        "    while loop_condition:\n",
        "        do_something"
      ]
    },
    {
      "cell_type": "markdown",
      "metadata": {
        "id": "aRZ2_sdsMHpg",
        "colab_type": "text"
      },
      "source": [
        "## Quiz: Python, Loop\n",
        "\n",
        "    i = 0\n",
        "    while i < 10:\n",
        "    print (i)\n",
        "    i+=1\n",
        "\n",
        "### Q: How many times is the condition 'i < 10' evaluated?\n",
        "\n",
        "### A: 11 times. Python checks if i(=10) < 10, and terminates the loop."
      ]
    },
    {
      "cell_type": "code",
      "metadata": {
        "id": "GtyNDPLsSxHV",
        "colab_type": "code",
        "colab": {
          "base_uri": "https://localhost:8080/",
          "height": 187
        },
        "outputId": "06510cd5-d7b2-4966-e7b2-488f4c30c702"
      },
      "source": [
        "i = 0\n",
        "while i < 10:\n",
        "  print(i)\n",
        "  i+=1 # do whatever you want with i."
      ],
      "execution_count": null,
      "outputs": [
        {
          "output_type": "stream",
          "text": [
            "0\n",
            "1\n",
            "2\n",
            "3\n",
            "4\n",
            "5\n",
            "6\n",
            "7\n",
            "8\n",
            "9\n"
          ],
          "name": "stdout"
        }
      ]
    },
    {
      "cell_type": "markdown",
      "metadata": {
        "id": "NuAEA-fyCvn3",
        "colab_type": "text"
      },
      "source": [
        "\n",
        "\n",
        "---\n",
        "\n"
      ]
    },
    {
      "cell_type": "markdown",
      "metadata": {
        "id": "i86qDKQuMHpj",
        "colab_type": "text"
      },
      "source": [
        "## 04 -  Python: Conditions\n",
        "\n",
        "*Conditions makes you diversify the streamlines of your program. We can model various mathematical conditions in linear algebra\n",
        "using the condition statements in Python.*\n",
        "\n",
        "    for i in range(0, 20):\n",
        "        ### What should we put here to print just 'even' values?\n",
        "        if i % 2 == 0:\n",
        "            print (i, \"is multiples of 2\")\n",
        "        elif i % 3 == 0:\n",
        "            print(i, \"is multiples of 3\")\n",
        "        elif i % 5 == 0:\n",
        "            print(i, \"is multiples of 5\")\n",
        "        else:     \n",
        "            print(i, \"is NOT multiples of 2,3, or 5.\") \n",
        "\n",
        "*%* : modulo operator\n",
        "\n",
        "    x % y produces the remainder from x / y.\n",
        "\n",
        "    e.g., 22%3 = 1\n",
        "    \n"
      ]
    },
    {
      "cell_type": "code",
      "metadata": {
        "id": "OP85BrunTHvs",
        "colab_type": "code",
        "colab": {
          "base_uri": "https://localhost:8080/",
          "height": 357
        },
        "outputId": "62fee852-f4a6-448e-b7cd-da94dd86dd34"
      },
      "source": [
        "for i in range(1, 20):\n",
        "  ### What should we put here to print just 'even' values?\n",
        "  if i % 2 == 0:\n",
        "    print (i, \"is multiples of 2\")\n",
        "  elif i % 3 == 0:\n",
        "    print(i, \"is multiples of 3\")\n",
        "  elif i % 5 == 0:\n",
        "    print(i, \"is multiples of 5\")\n",
        "  else:     \n",
        "    print(i, \"is NOT multiples of 2,3, or 5.\")"
      ],
      "execution_count": null,
      "outputs": [
        {
          "output_type": "stream",
          "text": [
            "0 is multiples of 2\n",
            "1 is NOT multiples of 2,3, or 5.\n",
            "2 is multiples of 2\n",
            "3 is multiples of 3\n",
            "4 is multiples of 2\n",
            "5 is multiples of 5\n",
            "6 is multiples of 2\n",
            "7 is NOT multiples of 2,3, or 5.\n",
            "8 is multiples of 2\n",
            "9 is multiples of 3\n",
            "10 is multiples of 2\n",
            "11 is NOT multiples of 2,3, or 5.\n",
            "12 is multiples of 2\n",
            "13 is NOT multiples of 2,3, or 5.\n",
            "14 is multiples of 2\n",
            "15 is multiples of 3\n",
            "16 is multiples of 2\n",
            "17 is NOT multiples of 2,3, or 5.\n",
            "18 is multiples of 2\n",
            "19 is NOT multiples of 2,3, or 5.\n"
          ],
          "name": "stdout"
        }
      ]
    },
    {
      "cell_type": "markdown",
      "metadata": {
        "id": "kiKS_iOgCcso",
        "colab_type": "text"
      },
      "source": [
        "*Important thing to note is that things under (indented after) if:, elif:, else: are mutually exclusive, and\n",
        "Python examines the condition staement in 'if-elif-elif-...-else' order.\n",
        "For example, 15 is both multiples of 3 and 5, but is examined as a multiple of 3, since we've placed the 'i % 3' statement before 'i % 5'..*\n",
        "\n",
        "*Actually, there are more intricate ways of doing conditioning and looping in Python, and we'll meet those examples through the homeworks of this course.*\n",
        "\n",
        "\n",
        "\n",
        "---\n",
        "\n"
      ]
    },
    {
      "cell_type": "markdown",
      "metadata": {
        "id": "qjjJMveDMHpk",
        "colab_type": "text"
      },
      "source": [
        "## 05 -  Python: Functions\n",
        "\n",
        "*functions allow us to make details of codes be abstract by merging several lines codes into seperate code blocks.*\n",
        "\n",
        "*In C/C++, We have defined a function like below (e.g. the absolute value function)*&\n",
        "\n",
        "      int my_abs (int val) {\n",
        "          if (val < 0) {\n",
        "              return 0-val;\n",
        "          }\n",
        "          return val;\n",
        "      }\n",
        "\n",
        "*While in Python, the equivalent code is like*\n",
        "\n",
        "      def my_abs (val):\n",
        "          if val < 0:\n",
        "              return 0-val\n",
        "          return val\n",
        "\n",
        "*Notice in the first line, we define the function like*\n",
        "\n",
        "      def my_abs (val):\n",
        "\n",
        "\n",
        "*def is a keyword to denote that we're defining a function, and we takes an input value: variable val*\n",
        "\n",
        "\n",
        "*Notice that neither the return type nor the input type is defined.*\n",
        "\n",
        "* pros: don't have to spend time on defining dtype of in & out.\n",
        "* cons: it would cause problem in the funture (runtime).\n",
        "\n",
        "*Below example shows the runttime error occured by the nature of Python function.*\n",
        "\n"
      ]
    },
    {
      "cell_type": "code",
      "metadata": {
        "tags": [],
        "id": "H7v6AFmBMHpo",
        "colab_type": "code",
        "colab": {
          "base_uri": "https://localhost:8080/",
          "height": 333
        },
        "outputId": "6eaf8d4b-0538-4816-c0d0-4554a30d88c3"
      },
      "source": [
        "def my_abs (val):\n",
        "  if val < 0:\n",
        "    return 0-val\n",
        "  return val\n",
        "\n",
        "print(my_abs(-7)) # seems good. A function directly ends with returning\n",
        "\n",
        "print(my_abs(\"Hi\")) # raises error in the run time."
      ],
      "execution_count": null,
      "outputs": [
        {
          "output_type": "stream",
          "text": [
            "7\n"
          ],
          "name": "stdout"
        },
        {
          "output_type": "error",
          "ename": "TypeError",
          "evalue": "ignored",
          "traceback": [
            "\u001b[0;31m---------------------------------------------------------------------------\u001b[0m",
            "\u001b[0;31mTypeError\u001b[0m                                 Traceback (most recent call last)",
            "\u001b[0;32m<ipython-input-20-01541ad39c5b>\u001b[0m in \u001b[0;36m<module>\u001b[0;34m()\u001b[0m\n\u001b[1;32m     12\u001b[0m \u001b[0mprint\u001b[0m\u001b[0;34m(\u001b[0m\u001b[0mmy_abs\u001b[0m\u001b[0;34m(\u001b[0m\u001b[0;34m-\u001b[0m\u001b[0;36m7\u001b[0m\u001b[0;34m)\u001b[0m\u001b[0;34m)\u001b[0m \u001b[0;31m# seems good.\u001b[0m\u001b[0;34m\u001b[0m\u001b[0;34m\u001b[0m\u001b[0m\n\u001b[1;32m     13\u001b[0m \u001b[0;34m\u001b[0m\u001b[0m\n\u001b[0;32m---> 14\u001b[0;31m \u001b[0mprint\u001b[0m\u001b[0;34m(\u001b[0m\u001b[0mmy_abs\u001b[0m\u001b[0;34m(\u001b[0m\u001b[0;34m\"Hi\"\u001b[0m\u001b[0;34m)\u001b[0m\u001b[0;34m)\u001b[0m \u001b[0;31m# raises error in the run time.\u001b[0m\u001b[0;34m\u001b[0m\u001b[0;34m\u001b[0m\u001b[0m\n\u001b[0m",
            "\u001b[0;32m<ipython-input-20-01541ad39c5b>\u001b[0m in \u001b[0;36mmy_abs\u001b[0;34m(val)\u001b[0m\n\u001b[1;32m      6\u001b[0m \u001b[0;34m\u001b[0m\u001b[0m\n\u001b[1;32m      7\u001b[0m \u001b[0;32mdef\u001b[0m \u001b[0mmy_abs\u001b[0m \u001b[0;34m(\u001b[0m\u001b[0mval\u001b[0m\u001b[0;34m)\u001b[0m\u001b[0;34m:\u001b[0m\u001b[0;34m\u001b[0m\u001b[0;34m\u001b[0m\u001b[0m\n\u001b[0;32m----> 8\u001b[0;31m   \u001b[0;32mif\u001b[0m \u001b[0mval\u001b[0m \u001b[0;34m<\u001b[0m \u001b[0;36m0\u001b[0m\u001b[0;34m:\u001b[0m\u001b[0;34m\u001b[0m\u001b[0;34m\u001b[0m\u001b[0m\n\u001b[0m\u001b[1;32m      9\u001b[0m     \u001b[0;32mreturn\u001b[0m \u001b[0;36m0\u001b[0m\u001b[0;34m-\u001b[0m\u001b[0mval\u001b[0m\u001b[0;34m\u001b[0m\u001b[0;34m\u001b[0m\u001b[0m\n\u001b[1;32m     10\u001b[0m   \u001b[0;32mreturn\u001b[0m \u001b[0mval\u001b[0m\u001b[0;34m\u001b[0m\u001b[0;34m\u001b[0m\u001b[0m\n",
            "\u001b[0;31mTypeError\u001b[0m: '<' not supported between instances of 'str' and 'int'"
          ]
        }
      ]
    },
    {
      "cell_type": "markdown",
      "metadata": {
        "id": "rg8HgkMCMHpq",
        "colab_type": "text"
      },
      "source": [
        "*If it were in C/C++, the compiler would have caught the error in prior.\n",
        "While in Python, we can recogize the error in the runtime.*\n"
      ]
    },
    {
      "cell_type": "markdown",
      "metadata": {
        "id": "K2Ax70upMHps",
        "colab_type": "text"
      },
      "source": [
        "\n",
        "\n",
        "---\n",
        "\n",
        "\n",
        "\n",
        "## 06 -  Python: Scopes\n",
        "\n",
        "*Let's talk about scoping rules in Python.*\n",
        "*For starter, what do you think we get from running lines of codes below?*\n",
        "\n",
        "      def my_abs(val):\n",
        "          if val < 0:\n",
        "              return 0-val\n",
        "          return val\n",
        "      \n",
        "      print(val)\n",
        "    "
      ]
    },
    {
      "cell_type": "code",
      "metadata": {
        "id": "KlwbJ-SoMHpt",
        "colab_type": "code",
        "colab": {
          "base_uri": "https://localhost:8080/",
          "height": 34
        },
        "outputId": "c88a0a49-6ea3-4c21-e832-c24ef343e274"
      },
      "source": [
        "def my_abs(val):\n",
        "  if val < 0:\n",
        "    return 0-val\n",
        "  return val\n",
        "\n",
        "print(val)"
      ],
      "execution_count": null,
      "outputs": [
        {
          "output_type": "stream",
          "text": [
            "0\n"
          ],
          "name": "stdout"
        }
      ]
    },
    {
      "cell_type": "markdown",
      "metadata": {
        "id": "9o8KGHz5MHpw",
        "colab_type": "text"
      },
      "source": [
        " *Python is not happy by saying 'val' is undefined,.. but we've defined 'val' inside the \n",
        "function 'my_abs'.* \n",
        "\n",
        "*Like in C, the variable 'val' was declared in the scope of the function 'my_abs()'.\n",
        "Then, what if we do like below?*\n",
        "\n",
        "\n",
        "    val = 0\n",
        "    def my_abs(val):\n",
        "        if val < 0:\n",
        "            return 0-val\n",
        "        return val\n",
        "    \n",
        "    print(val)\n",
        "\n",
        "\n"
      ]
    },
    {
      "cell_type": "code",
      "metadata": {
        "tags": [],
        "id": "G9vOLyDuMHpx",
        "colab_type": "code",
        "colab": {
          "base_uri": "https://localhost:8080/",
          "height": 34
        },
        "outputId": "86f704e0-e64f-4f9b-d38e-a6697f1b4163"
      },
      "source": [
        "val = 0\n",
        "def my_abs(val):\n",
        "  if val < 0:\n",
        "    return 0-val\n",
        "  return val\n",
        "print(val)"
      ],
      "execution_count": null,
      "outputs": [
        {
          "output_type": "stream",
          "text": [
            "0\n"
          ],
          "name": "stdout"
        }
      ]
    },
    {
      "cell_type": "markdown",
      "metadata": {
        "id": "9d0yc4fHMHpz",
        "colab_type": "text"
      },
      "source": [
        "*Code runs fine, but it's bad behavior. We should diffrentiate the naming of global variable and local variable.*\n",
        "\n",
        "*Finally, we'll play with some important data structures in Python, relevant to this course.*\n",
        "\n",
        "\n",
        "---\n",
        "\n",
        "\n",
        " "
      ]
    },
    {
      "cell_type": "markdown",
      "metadata": {
        "id": "HrEQPgS9MHp0",
        "colab_type": "text"
      },
      "source": [
        "## 07 - Lists in Python\n",
        "\n",
        "*For the effectiveness in programming, we need effective method of storing data.*\n",
        "\n",
        "*The most basic such data structure in Python is 'list'*\n",
        "\n",
        "\n",
        "#### List basics"
      ]
    },
    {
      "cell_type": "code",
      "metadata": {
        "tags": [],
        "id": "K_-z2ceKMHp0",
        "colab_type": "code",
        "colab": {
          "base_uri": "https://localhost:8080/",
          "height": 265
        },
        "outputId": "364ac681-0199-4a23-808b-bb1636ea224f"
      },
      "source": [
        "list = [11, 22, 33]\n",
        "print(list)\n",
        "print(list[0])\n",
        "print(list[1])\n",
        "print(list[2])\n",
        "print(list[3])"
      ],
      "execution_count": 11,
      "outputs": [
        {
          "output_type": "stream",
          "name": "stdout",
          "text": "[11, 22, 33]\n11\n22\n33\n"
        },
        {
          "output_type": "error",
          "ename": "IndexError",
          "evalue": "list index out of range",
          "traceback": [
            "\u001b[0;31m---------------------------------------------------------------------------\u001b[0m",
            "\u001b[0;31mIndexError\u001b[0m                                Traceback (most recent call last)",
            "\u001b[0;32m<ipython-input-11-9ffb51ffc8e6>\u001b[0m in \u001b[0;36m<module>\u001b[0;34m\u001b[0m\n\u001b[1;32m      4\u001b[0m \u001b[0mprint\u001b[0m\u001b[0;34m(\u001b[0m\u001b[0mlist\u001b[0m\u001b[0;34m[\u001b[0m\u001b[0;36m1\u001b[0m\u001b[0;34m]\u001b[0m\u001b[0;34m)\u001b[0m\u001b[0;34m\u001b[0m\u001b[0;34m\u001b[0m\u001b[0m\n\u001b[1;32m      5\u001b[0m \u001b[0mprint\u001b[0m\u001b[0;34m(\u001b[0m\u001b[0mlist\u001b[0m\u001b[0;34m[\u001b[0m\u001b[0;36m2\u001b[0m\u001b[0;34m]\u001b[0m\u001b[0;34m)\u001b[0m\u001b[0;34m\u001b[0m\u001b[0;34m\u001b[0m\u001b[0m\n\u001b[0;32m----> 6\u001b[0;31m \u001b[0mprint\u001b[0m\u001b[0;34m(\u001b[0m\u001b[0mlist\u001b[0m\u001b[0;34m[\u001b[0m\u001b[0;36m3\u001b[0m\u001b[0;34m]\u001b[0m\u001b[0;34m)\u001b[0m\u001b[0;34m\u001b[0m\u001b[0;34m\u001b[0m\u001b[0m\n\u001b[0m",
            "\u001b[0;31mIndexError\u001b[0m: list index out of range"
          ]
        }
      ]
    },
    {
      "cell_type": "markdown",
      "metadata": {
        "id": "xxpAtCkYMHp4",
        "colab_type": "text"
      },
      "source": [
        "*Index in Python starts from 0.*\n",
        "\n",
        "*But, wait. The above code has some flaw in that naming the variable as 'list', which is a built-in\n",
        "naming in Python, like int, float, range, etc.*\n",
        "\n",
        "*We can also iterate over the list to access all elements of list.*"
      ]
    },
    {
      "cell_type": "code",
      "metadata": {
        "tags": [],
        "id": "XMqWZNOTMHp4",
        "colab_type": "code",
        "colab": {},
        "outputId": "819e4883-54e5-4a01-d941-e23ecfce7a26"
      },
      "source": [
        "for i in list:\n",
        "  print(i)\n"
      ],
      "execution_count": 12,
      "outputs": [
        {
          "output_type": "stream",
          "name": "stdout",
          "text": "11\n22\n33\n"
        }
      ]
    },
    {
      "cell_type": "code",
      "metadata": {
        "tags": [],
        "id": "o7oYwsb1MHp7",
        "colab_type": "code",
        "colab": {
          "base_uri": "https://localhost:8080/",
          "height": 51
        },
        "outputId": "8a9f198e-2293-467e-ffc7-da82cea53ded"
      },
      "source": [
        "### Please restart the Colab session here to understand example below.  ###\n",
        "print(list) # <class 'list'>\n",
        "list = [1, 2, 3]\n",
        "print(list) # [1, 2, 3]"
      ],
      "execution_count": 13,
      "outputs": [
        {
          "output_type": "stream",
          "name": "stdout",
          "text": "[11, 22, 33]\n[1, 2, 3]\n"
        }
      ]
    },
    {
      "cell_type": "markdown",
      "metadata": {
        "id": "6NgfaUrmMHp9",
        "colab_type": "text"
      },
      "source": [
        "*Note that there's already class (object) named 'list' in Python, and is overwritten by naming our new list [1, 2, 3] naming as 'list'.*\n",
        "\n",
        "*By doing so, name 'list' is not available.*\n",
        "\n",
        "*We can also use 'for' loop to access each element of list.*\n",
        "\n",
        "*Thus, let's rename our list as 'list1'.*"
      ]
    },
    {
      "cell_type": "code",
      "metadata": {
        "id": "_QH4aUmUMHp9",
        "colab_type": "code",
        "colab": {
          "base_uri": "https://localhost:8080/",
          "height": 119
        },
        "outputId": "fbaaf324-c2e3-41e9-a0b9-53740b7c2c51",
        "tags": []
      },
      "source": [
        "list1 = [1, 2, 3]\n",
        "for e in list1:\n",
        "  print(e)"
      ],
      "execution_count": 6,
      "outputs": [
        {
          "output_type": "stream",
          "name": "stdout",
          "text": "1\n2\n3\n1\n2\n3\n"
        }
      ]
    },
    {
      "cell_type": "markdown",
      "metadata": {
        "id": "-YOVTocsMHp_",
        "colab_type": "text"
      },
      "source": [
        "*Code above is very simple, and is Pytho-nic way to program. We recommand you to code like this.*\n",
        "\n",
        "*Or, more like C-style, we can do like*\n"
      ]
    },
    {
      "cell_type": "code",
      "metadata": {
        "tags": [],
        "id": "zvRoCdM1MHqA",
        "colab_type": "code",
        "colab": {},
        "outputId": "6184559a-3e95-4ae4-c5a1-2b572a18e439"
      },
      "source": [
        "for e in range(0, len(list1)): # 'len()' returns the lenght of items in the list.\n",
        "    print(list1[e]) # 'i' is an index to the list, and 'i' starts from 0 to the length of the list."
      ],
      "execution_count": 7,
      "outputs": [
        {
          "output_type": "stream",
          "name": "stdout",
          "text": "1\n2\n3\n"
        }
      ]
    },
    {
      "cell_type": "markdown",
      "metadata": {
        "id": "27AY3haUMHqC",
        "colab_type": "text"
      },
      "source": [
        "*We also can change the contents of the elements of a list, by indexing*\n"
      ]
    },
    {
      "cell_type": "code",
      "metadata": {
        "tags": [],
        "id": "ezA6fZR7MHqC",
        "colab_type": "code",
        "colab": {},
        "outputId": "b9935d91-e289-4dd9-e701-759381fd5b46"
      },
      "source": [
        "list1[1] = 95\n",
        "print (list1[1]) # 95\n",
        "print(list1) # [1, 95, 3]"
      ],
      "execution_count": 8,
      "outputs": [
        {
          "output_type": "stream",
          "name": "stdout",
          "text": "95\n[1, 95, 3]\n"
        }
      ]
    },
    {
      "cell_type": "code",
      "metadata": {
        "id": "OJlpv0s_MHqF",
        "colab_type": "code",
        "colab": {
          "base_uri": "https://localhost:8080/",
          "height": 197
        },
        "outputId": "e084415c-a34d-4ea2-c6e1-58231bdc5886",
        "tags": []
      },
      "source": [
        "list1 = [1, 2, 3]\n",
        "list1.append(44)\n",
        "print(list1)\n",
        "# [1, 2, 3, 44]"
      ],
      "execution_count": 9,
      "outputs": [
        {
          "output_type": "stream",
          "name": "stdout",
          "text": "[1, 95, 3, 44]\n"
        }
      ]
    },
    {
      "cell_type": "markdown",
      "metadata": {
        "id": "1dCjabhhMHqJ",
        "colab_type": "text"
      },
      "source": [
        "*We can also remove value from a list, by using 'pop()'.*"
      ]
    },
    {
      "cell_type": "code",
      "metadata": {
        "tags": [],
        "id": "y67JnlUrMHqJ",
        "colab_type": "code",
        "colab": {
          "base_uri": "https://localhost:8080/",
          "height": 51
        },
        "outputId": "8341364a-b751-4ed6-8c12-9199ce09da16"
      },
      "source": [
        "a = list1.pop(3) # remove elem @ index 3\n",
        "print(a) # 44\n",
        "print(list1) # [1, 2, 3]"
      ],
      "execution_count": 10,
      "outputs": [
        {
          "output_type": "stream",
          "name": "stdout",
          "text": "44\n[1, 2, 3]\n"
        }
      ]
    },
    {
      "cell_type": "code",
      "metadata": {
        "tags": [],
        "id": "VCoedSGtMHqQ",
        "colab_type": "code",
        "colab": {
          "base_uri": "https://localhost:8080/",
          "height": 34
        },
        "outputId": "66ebca6d-293c-4344-fe15-c1f2df4f304b"
      },
      "source": [
        "list2 = [4, 5, 6]\n",
        "list1.extend(list2)\n",
        "print(list1) # [1, 2, 3, 4, 5, 6]"
      ],
      "execution_count": null,
      "outputs": [
        {
          "output_type": "stream",
          "text": [
            "[1, 2, 3, 4, 5, 6]\n"
          ],
          "name": "stdout"
        }
      ]
    },
    {
      "cell_type": "code",
      "metadata": {
        "id": "BuIM1prWdBKj",
        "colab_type": "code",
        "colab": {
          "base_uri": "https://localhost:8080/",
          "height": 34
        },
        "outputId": "b9cd390e-4235-48f8-8f8a-9a91d79563d7"
      },
      "source": [
        "list1 = [1, 2, 3]\n",
        "list2 = [4, 5, 6]\n",
        "list1.append(list2)\n",
        "print(list1) # [1, 2, 3, [4, 5, 6]]"
      ],
      "execution_count": null,
      "outputs": [
        {
          "output_type": "stream",
          "text": [
            "[1, 2, 3, [4, 5, 6]]\n"
          ],
          "name": "stdout"
        }
      ]
    },
    {
      "cell_type": "markdown",
      "metadata": {
        "id": "F_EydVl2MHqS",
        "colab_type": "text"
      },
      "source": [
        "### But, if we append,\n"
      ]
    },
    {
      "cell_type": "code",
      "metadata": {
        "tags": [],
        "id": "wcDbl6fAMHqS",
        "colab_type": "code",
        "colab": {
          "base_uri": "https://localhost:8080/",
          "height": 34
        },
        "outputId": "a2ead763-4e12-47f2-e21b-cfb05f026c76"
      },
      "source": [
        "list3 = [1, 2, 3]\n",
        "list4 = [4, 5, 6]\n",
        "\n",
        "list3.append(list4)\n",
        "\n",
        "print(list3)"
      ],
      "execution_count": null,
      "outputs": [
        {
          "output_type": "stream",
          "text": [
            "[1, 2, 3, [4, 5, 6]]\n"
          ],
          "name": "stdout"
        }
      ]
    },
    {
      "cell_type": "markdown",
      "metadata": {
        "id": "vXq6FLONMHqU",
        "colab_type": "text"
      },
      "source": [
        "---\n",
        "## 08 - Tuples in Python\n",
        "\n",
        "*In the previous example, we saw that lists are mutable, which means you can change their elements at any time.*\n",
        "*'tuples' are immutable, and this property make them valuable in a number of situtations for data analysis.*\n",
        "*Usaully, tuples are used to put together information connected in some way.*"
      ]
    },
    {
      "cell_type": "code",
      "metadata": {
        "tags": [],
        "id": "Ha1ys26KMHqV",
        "colab_type": "code",
        "colab": {
          "base_uri": "https://localhost:8080/",
          "height": 214
        },
        "outputId": "21a6ae34-afe0-43f3-ebe4-487e3470f1c7"
      },
      "source": [
        "tuple1 = ('SNU', 'ECE', 2020, 'LinAlg')\n",
        "print (tuple1)\n",
        "tuple1[2] = 2021"
      ],
      "execution_count": null,
      "outputs": [
        {
          "output_type": "stream",
          "text": [
            "('SNU', 'ECE', 2020, 'LinAlg')\n"
          ],
          "name": "stdout"
        },
        {
          "output_type": "error",
          "ename": "TypeError",
          "evalue": "ignored",
          "traceback": [
            "\u001b[0;31m---------------------------------------------------------------------------\u001b[0m",
            "\u001b[0;31mTypeError\u001b[0m                                 Traceback (most recent call last)",
            "\u001b[0;32m<ipython-input-20-fb04f3bd405b>\u001b[0m in \u001b[0;36m<module>\u001b[0;34m()\u001b[0m\n\u001b[1;32m      1\u001b[0m \u001b[0mtuple1\u001b[0m \u001b[0;34m=\u001b[0m \u001b[0;34m(\u001b[0m\u001b[0;34m'SNU'\u001b[0m\u001b[0;34m,\u001b[0m \u001b[0;34m'ECE'\u001b[0m\u001b[0;34m,\u001b[0m \u001b[0;36m2020\u001b[0m\u001b[0;34m,\u001b[0m \u001b[0;34m'LinAlg'\u001b[0m\u001b[0;34m)\u001b[0m\u001b[0;34m\u001b[0m\u001b[0;34m\u001b[0m\u001b[0m\n\u001b[1;32m      2\u001b[0m \u001b[0mprint\u001b[0m \u001b[0;34m(\u001b[0m\u001b[0mtuple1\u001b[0m\u001b[0;34m)\u001b[0m\u001b[0;34m\u001b[0m\u001b[0;34m\u001b[0m\u001b[0m\n\u001b[0;32m----> 3\u001b[0;31m \u001b[0mtuple1\u001b[0m\u001b[0;34m[\u001b[0m\u001b[0;36m2\u001b[0m\u001b[0;34m]\u001b[0m \u001b[0;34m=\u001b[0m \u001b[0;36m2021\u001b[0m\u001b[0;34m\u001b[0m\u001b[0;34m\u001b[0m\u001b[0m\n\u001b[0m",
            "\u001b[0;31mTypeError\u001b[0m: 'tuple' object does not support item assignment"
          ]
        }
      ]
    },
    {
      "cell_type": "code",
      "metadata": {
        "id": "lCOG7xh9MHqY",
        "colab_type": "code",
        "colab": {
          "base_uri": "https://localhost:8080/",
          "height": 102
        },
        "outputId": "44154888-f4f7-4690-ce00-a936bbe28cc9"
      },
      "source": [
        "tuple1[1] # 'ECE'\n",
        "print(len(tuple1)) # 4\n",
        "for i in tuple1:\n",
        "    print(i) # 'SNU', 'ECE', 2020, 'LinAlg'"
      ],
      "execution_count": null,
      "outputs": [
        {
          "output_type": "stream",
          "text": [
            "4\n",
            "SNU\n",
            "ECE\n",
            "2020\n",
            "LinAlg\n"
          ],
          "name": "stdout"
        }
      ]
    },
    {
      "cell_type": "code",
      "metadata": {
        "tags": [],
        "id": "tvm5qKNNMHqa",
        "colab_type": "code",
        "colab": {
          "base_uri": "https://localhost:8080/",
          "height": 231
        },
        "outputId": "f7462e71-e559-4564-e416-94df263adbce"
      },
      "source": [
        "print(len(tuple1))\n",
        "\n",
        "print('---------------------')\n",
        "for i in tuple1:\n",
        "    print(i) # [1, '2', 3]\n",
        "\n"
      ],
      "execution_count": 37,
      "outputs": [
        {
          "output_type": "error",
          "ename": "NameError",
          "evalue": "ignored",
          "traceback": [
            "\u001b[0;31m---------------------------------------------------------------------------\u001b[0m",
            "\u001b[0;31mNameError\u001b[0m                                 Traceback (most recent call last)",
            "\u001b[0;32m<ipython-input-37-fc24a7906372>\u001b[0m in \u001b[0;36m<module>\u001b[0;34m()\u001b[0m\n\u001b[0;32m----> 1\u001b[0;31m \u001b[0mprint\u001b[0m\u001b[0;34m(\u001b[0m\u001b[0mlen\u001b[0m\u001b[0;34m(\u001b[0m\u001b[0mtuple1\u001b[0m\u001b[0;34m)\u001b[0m\u001b[0;34m)\u001b[0m\u001b[0;34m\u001b[0m\u001b[0;34m\u001b[0m\u001b[0m\n\u001b[0m\u001b[1;32m      2\u001b[0m \u001b[0;34m\u001b[0m\u001b[0m\n\u001b[1;32m      3\u001b[0m \u001b[0mprint\u001b[0m\u001b[0;34m(\u001b[0m\u001b[0;34m'---------------------'\u001b[0m\u001b[0;34m)\u001b[0m\u001b[0;34m\u001b[0m\u001b[0;34m\u001b[0m\u001b[0m\n\u001b[1;32m      4\u001b[0m \u001b[0;32mfor\u001b[0m \u001b[0mi\u001b[0m \u001b[0;32min\u001b[0m \u001b[0mtuple1\u001b[0m\u001b[0;34m:\u001b[0m\u001b[0;34m\u001b[0m\u001b[0;34m\u001b[0m\u001b[0m\n\u001b[1;32m      5\u001b[0m     \u001b[0mprint\u001b[0m\u001b[0;34m(\u001b[0m\u001b[0mi\u001b[0m\u001b[0;34m)\u001b[0m \u001b[0;31m# [1, '2', 3]\u001b[0m\u001b[0;34m\u001b[0m\u001b[0;34m\u001b[0m\u001b[0m\n",
            "\u001b[0;31mNameError\u001b[0m: name 'tuple1' is not defined"
          ]
        }
      ]
    },
    {
      "cell_type": "code",
      "metadata": {
        "id": "RqKmASE_MHqd",
        "colab_type": "code",
        "colab": {},
        "outputId": "8f4a6569-db14-4a00-9c89-a0728d0871ad"
      },
      "source": [
        "tuple1[2] = 2021"
      ],
      "execution_count": null,
      "outputs": [
        {
          "output_type": "error",
          "ename": "TypeError",
          "evalue": "'tuple' object does not support item assignment",
          "traceback": [
            "\u001b[0;31m---------------------------------------------------------------------------\u001b[0m",
            "\u001b[0;31mTypeError\u001b[0m                                 Traceback (most recent call last)",
            "\u001b[0;32m<ipython-input-46-969ee107689e>\u001b[0m in \u001b[0;36m<module>\u001b[0;34m\u001b[0m\n\u001b[0;32m----> 1\u001b[0;31m \u001b[0mtuple1\u001b[0m\u001b[0;34m[\u001b[0m\u001b[0;36m2\u001b[0m\u001b[0;34m]\u001b[0m \u001b[0;34m=\u001b[0m \u001b[0;36m2021\u001b[0m\u001b[0;34m\u001b[0m\u001b[0;34m\u001b[0m\u001b[0m\n\u001b[0m",
            "\u001b[0;31mTypeError\u001b[0m: 'tuple' object does not support item assignment"
          ]
        }
      ]
    },
    {
      "cell_type": "markdown",
      "metadata": {
        "id": "0eJeiRh7MHqf",
        "colab_type": "text"
      },
      "source": [
        "*If we're to change the third element of tuple1, we get an error like above.\n",
        "'tuple' object does not support item assignment!\n",
        "If an object is immutable, you can TRUST it to never change!*\n",
        "\n",
        "*This functionality may seem trivial at this moment, but there comes a moment you'll need this in future.*\n",
        "\n",
        "*Plus, if you want to change data types between compatible objecst like\n",
        "list and tuples, you can do like below.*\n",
        "\n",
        "---\n",
        " "
      ]
    },
    {
      "cell_type": "markdown",
      "metadata": {
        "id": "RsAPGP13H4hK",
        "colab_type": "text"
      },
      "source": [
        "## 08 - Numpy Tutorials\n",
        "\n",
        "\n",
        "### Numpy ndarray (n-dimensional array)"
      ]
    },
    {
      "cell_type": "code",
      "metadata": {
        "id": "FfYPSqrzH7fO",
        "colab_type": "code",
        "colab": {}
      },
      "source": [
        "# numpy array\n",
        "\n",
        "import numpy as np # import numpy library\n",
        "\n",
        "a = np.array([1, 2, 3]) # create a rank 1 array\n",
        "print(a.shape) # \"(3,)\"\n",
        "print(a[0], a[1], a[2]) # \"1 2 3\"\n",
        "\n",
        "a[0] = 5 # change an element of the array\n",
        "print(a) # \"[5, 2, 3]\"\n",
        "\n",
        "b = np.array([\n",
        "    [1, 2, 3], \n",
        "    [4,5,6]\n",
        "]) # create a rank 2 array\n",
        "print(b.shape) # \"(2, 3)\"\n",
        "print(b[0, 0], b[0, 1], b[1, 0]) # \"1 2 4\"\n",
        "print(b[0][0], b[0][1], b[1][0]) # \"1 2 4\""
      ],
      "execution_count": null,
      "outputs": []
    },
    {
      "cell_type": "markdown",
      "metadata": {
        "id": "SiE74xqkI6dL",
        "colab_type": "text"
      },
      "source": [
        "### Numpy indexing\n"
      ]
    },
    {
      "cell_type": "code",
      "metadata": {
        "id": "vLCJA4bgI-36",
        "colab_type": "code",
        "colab": {
          "base_uri": "https://localhost:8080/",
          "height": 85
        },
        "outputId": "2d159253-f119-4002-d0eb-0f5c435d8ff2"
      },
      "source": [
        "# indexing\n",
        "\n",
        "import numpy as np\n",
        "# create the following rank 2 array with shape (3, 4)\n",
        "a = np.array([\n",
        "    [1, 2, 3, 4],\n",
        "    [5, 6, 7, 8],\n",
        "    [9, 10, 11, 12]\n",
        "])\n",
        "b = np.array([0, 2, 1])\n",
        "c = np.arange(3) # equivalent to np.array([0, 1, 2])\n",
        "\n",
        "# select one element from each row of a using the indices in b\n",
        "print(a[c, b]) # \"[1, 7, 10]\"\n",
        "\n",
        "# mutate one element from each row of a using the indices in b\n",
        "a[c, b] += 10\n",
        "print(a) \n",
        "# \"[[11,  2, 3,  4]\n",
        "# [5, 6, 17,  8]\n",
        "# [9, 20, 11, 12]]\""
      ],
      "execution_count": 29,
      "outputs": [
        {
          "output_type": "stream",
          "text": [
            "[ 1  7 10]\n",
            "[[11  2  3  4]\n",
            " [ 5  6 17  8]\n",
            " [ 9 20 11 12]]\n"
          ],
          "name": "stdout"
        }
      ]
    },
    {
      "cell_type": "markdown",
      "metadata": {
        "id": "tsrdrrjaJB-k",
        "colab_type": "text"
      },
      "source": [
        "## Numpy Slicing"
      ]
    },
    {
      "cell_type": "code",
      "metadata": {
        "id": "iiRQffc0JAhG",
        "colab_type": "code",
        "colab": {
          "base_uri": "https://localhost:8080/",
          "height": 119
        },
        "outputId": "3ad438f7-dc6f-4785-8641-24b78902beba"
      },
      "source": [
        "# slicing\n",
        "\n",
        "import numpy as np\n",
        "# create the following rank 2 array with shape (3, 4)\n",
        "a = np.array([\n",
        "    [1, 2, 3, 4], \n",
        "    [5, 6, 7, 8], \n",
        "    [9, 10, 11, 12]\n",
        "])\n",
        "# use slicing to pull out the \n",
        "# subarray consisting of the first 2 rows\n",
        "# and columns 1 and 2\n",
        "b = a[:2, 1: 3]\n",
        "print(b)\n",
        "# \"[[2, 3],\n",
        "# [6, 7]]\"\n",
        "\n",
        "c = a[1:, 1: -1]  # -1 means the last index\n",
        "print(c)\n",
        "# \"[[6, 7],\n",
        "# [10, 11]]\"\n",
        "\n",
        "# a slice of an array is a view into the same data, so modifying it\n",
        "# will modify the original array.\n",
        "print(a[0, 1])  # \"2\"\n",
        "b[0, 0] = 77  # b[0, 0] is the same piece of data as a[0, 1]\n",
        "print(a[0, 1])  # \"77\""
      ],
      "execution_count": 30,
      "outputs": [
        {
          "output_type": "stream",
          "text": [
            "[[2 3]\n",
            " [6 7]]\n",
            "[[ 6  7]\n",
            " [10 11]]\n",
            "2\n",
            "77\n"
          ],
          "name": "stdout"
        }
      ]
    },
    {
      "cell_type": "markdown",
      "metadata": {
        "id": "YOdUMJLaJHCc",
        "colab_type": "text"
      },
      "source": [
        "## Numpy data types"
      ]
    },
    {
      "cell_type": "code",
      "metadata": {
        "id": "EEfEnJxIJFBr",
        "colab_type": "code",
        "colab": {}
      },
      "source": [
        "# data types\n",
        "\n",
        "import numpy as np\n",
        "x = np.array([1, 2])  # numpy chooses the datatype\n",
        "print(x.dtype)  # \"int64\"\n",
        "x = np.array([1.0, 2.0])  # numpy chooses the datatype\n",
        "print(x.dtype)  # \"float64\"\n",
        "x = np.array([1, 2], dtype=np.int64)  # explicitly set a particular datatype\n",
        "print(x.dtype)  # \"int64\""
      ],
      "execution_count": null,
      "outputs": []
    },
    {
      "cell_type": "markdown",
      "metadata": {
        "id": "_lexmzRJJLN-",
        "colab_type": "text"
      },
      "source": [
        "## Numpy operators"
      ]
    },
    {
      "cell_type": "code",
      "metadata": {
        "id": "G0TdwzqtJNHX",
        "colab_type": "code",
        "colab": {
          "base_uri": "https://localhost:8080/",
          "height": 153
        },
        "outputId": "82b175fb-d8e7-4bac-8254-f148dccbd15a"
      },
      "source": [
        "# operators\n",
        "\n",
        "import numpy as np\n",
        "x = np.array([\n",
        "    [1, 2],\n",
        "    [3, 4]],\n",
        "    dtype=np.float64\n",
        ")\n",
        "y = np.array([\n",
        "    [5, 6], \n",
        "    [7, 8]], \n",
        "    dtype=np.float64\n",
        ")\n",
        "print(x + y)\n",
        "# elementwise sum\n",
        "# \"[[ 6.0 8.0]\n",
        "# [10.0 12.0]]\"\n",
        "\n",
        "print(x - y)\n",
        "# elementwise difference\n",
        "# \"[[-4.0 -4.0]\n",
        "# [-4.0 -4.0]]\"\n",
        "\n",
        "print(x * y)\n",
        "# elementwise product\n",
        "# \"[[ 5.0 12.0]\n",
        "# [21.0 32.0]]\"\n",
        "\n",
        "print(x / y)\n",
        "# elementwise division\n",
        "# \"[[ 0.2 0.33333333]\n",
        "# [ 0.42857143 0.5 ]]\""
      ],
      "execution_count": 31,
      "outputs": [
        {
          "output_type": "stream",
          "text": [
            "[[ 6.  8.]\n",
            " [10. 12.]]\n",
            "[[-4. -4.]\n",
            " [-4. -4.]]\n",
            "[[ 5. 12.]\n",
            " [21. 32.]]\n",
            "[[0.2        0.33333333]\n",
            " [0.42857143 0.5       ]]\n"
          ],
          "name": "stdout"
        }
      ]
    },
    {
      "cell_type": "markdown",
      "metadata": {
        "id": "B3bL2cS7JQVY",
        "colab_type": "text"
      },
      "source": [
        "## Dot products and matrix multiplication"
      ]
    },
    {
      "cell_type": "code",
      "metadata": {
        "id": "D8nwT5ysJOSb",
        "colab_type": "code",
        "colab": {
          "base_uri": "https://localhost:8080/",
          "height": 119
        },
        "outputId": "66324e46-e88a-4a74-80a3-4eced7bc0fb3"
      },
      "source": [
        "# dot product and matrix multiplication\n",
        "\n",
        "import numpy as np\n",
        "x = np.array([\n",
        "    [1, 2],\n",
        "    [3, 4]\n",
        "])\n",
        "y = np.array([\n",
        "    [5, 6],\n",
        "    [7, 8]\n",
        "])\n",
        "v = np.array([9, 10])\n",
        "w = np.array([11, 12])\n",
        "\n",
        "# inner product of vectors\n",
        "print(v.dot(w))  # \"19\"\n",
        "print(v) # \"[9, 10]\" note that v is unchanged\n",
        "print(np.dot(v, w))  # \"219\"\n",
        "\n",
        "# matrix / vector product\n",
        "print(x @ v)  # \"[29, 67]\"\n",
        "\n",
        "# matrix / matrix product\n",
        "print(x @ y)\n",
        "# \"[[19, 22]\n",
        "# [43, 50]]\""
      ],
      "execution_count": 32,
      "outputs": [
        {
          "output_type": "stream",
          "text": [
            "219\n",
            "[ 9 10]\n",
            "219\n",
            "[29 67]\n",
            "[[19 22]\n",
            " [43 50]]\n"
          ],
          "name": "stdout"
        }
      ]
    },
    {
      "cell_type": "markdown",
      "metadata": {
        "id": "m89CG3jYJdVD",
        "colab_type": "text"
      },
      "source": [
        "## Sum and Mean"
      ]
    },
    {
      "cell_type": "code",
      "metadata": {
        "id": "kvdIiEsDJTw-",
        "colab_type": "code",
        "colab": {
          "base_uri": "https://localhost:8080/",
          "height": 170
        },
        "outputId": "289e59d3-7ba8-4c23-9aac-a3ce07c89231"
      },
      "source": [
        "# sum and mean\n",
        "# TODO: add figure for axis statement\n",
        "\n",
        "import numpy as np\n",
        "x = np.array([\n",
        "    [1, 2, 3],\n",
        "    [4, 5, 6]\n",
        "])\n",
        "print(x.shape) # \"(2, 3)\"\n",
        "\n",
        "# compute sum of all elements\n",
        "print(np.sum(x)) # \"10\"\n",
        "\n",
        "# compute sum through row\n",
        "a = np.sum(x, axis=0)\n",
        "print(a)  # \"21\"\n",
        "print(a.shape) # \"(3,)\"\n",
        "\n",
        "# compute sum through column\n",
        "b = np.sum(x, axis=1)\n",
        "print(b)  # \"[6, 15]\"\n",
        "print(b.shape)  # \"(3, )\"\n",
        "\n",
        "# compute mean\n",
        "print(np.mean(x))  # \"3.5\"\n",
        "print(np.mean(x, axis=0))  # \"[2.5, 3.5, 4.5]\"\n",
        "print(np.mean(x, axis=1))  # \"[2., 5.]\", (2. is equivalent to 2.0)"
      ],
      "execution_count": 33,
      "outputs": [
        {
          "output_type": "stream",
          "text": [
            "(2, 3)\n",
            "21\n",
            "[5 7 9]\n",
            "(3,)\n",
            "[ 6 15]\n",
            "(2,)\n",
            "3.5\n",
            "[2.5 3.5 4.5]\n",
            "[2. 5.]\n"
          ],
          "name": "stdout"
        }
      ]
    },
    {
      "cell_type": "markdown",
      "metadata": {
        "id": "uJn3BwIjJg8t",
        "colab_type": "text"
      },
      "source": [
        "## Broadcasting"
      ]
    },
    {
      "cell_type": "code",
      "metadata": {
        "id": "q57LteHJJgaC",
        "colab_type": "code",
        "colab": {
          "base_uri": "https://localhost:8080/",
          "height": 85
        },
        "outputId": "48bab7be-caa9-4d64-e5da-860732768e49"
      },
      "source": [
        "# broadcasting\n",
        "\n",
        "# Suppose we want to add a vector v to each row of matrix x\n",
        "# A naive implementation is the following\n",
        "\n",
        "import numpy as np\n",
        "x = np.array([\n",
        "    [0, 0, 0],\n",
        "    [10, 10, 10],\n",
        "    [20, 20, 20],\n",
        "    [30, 30, 30]\n",
        "])\n",
        "v = np.array([0, 1, 2])\n",
        "y = np.zeros_like(x) # create an empty matrix with the same shape as x\n",
        "# Add the vector v to each row of the matrix x with an explicit loop\n",
        "for i in range(4):\n",
        "    y[i, :] = x[i, :] + v\n",
        "    \n",
        "print(y)\n",
        "# \"[[ 0,  1,  2]\n",
        "# [10, 11, 12]\n",
        "# [20, 21, 22]\n",
        "# [30, 31, 32]]\""
      ],
      "execution_count": 34,
      "outputs": [
        {
          "output_type": "stream",
          "text": [
            "[[ 0  1  2]\n",
            " [10 11 12]\n",
            " [20 21 22]\n",
            " [30 31 32]]\n"
          ],
          "name": "stdout"
        }
      ]
    },
    {
      "cell_type": "code",
      "metadata": {
        "id": "_3fozK6xJjUh",
        "colab_type": "code",
        "colab": {
          "base_uri": "https://localhost:8080/",
          "height": 119
        },
        "outputId": "4f994db2-b3ee-4f4b-b20b-9df31f2d2c35"
      },
      "source": [
        "# Now the broadcasting implementation\n",
        "\n",
        "# TODO: add figure\n",
        "import numpy as np\n",
        "# We will add the vector v to each row of the matrix x,\n",
        "# storing the result in the matrix y\n",
        "x = np.array([\n",
        "    [0, 0, 0],\n",
        "    [10, 10, 10],\n",
        "    [20, 20, 20],\n",
        "    [30, 30, 30]\n",
        "])\n",
        "\n",
        "v = np.array([0, 1, 2])\n",
        "\n",
        "print(x.shape)  # \"(4, 3)\"\n",
        "print(v.shape)  # \"(3, )\"\n",
        "\n",
        "y = x + v # Add v to \n",
        "print(y)\n",
        "# \"[[ 0,  1,  2]\n",
        "# [10, 11, 12]\n",
        "# [20, 21, 22]\n",
        "# [30, 31, 32]]\""
      ],
      "execution_count": 35,
      "outputs": [
        {
          "output_type": "stream",
          "text": [
            "(4, 3)\n",
            "(3,)\n",
            "[[ 0  1  2]\n",
            " [10 11 12]\n",
            " [20 21 22]\n",
            " [30 31 32]]\n"
          ],
          "name": "stdout"
        }
      ]
    },
    {
      "cell_type": "code",
      "metadata": {
        "id": "UXW0LNZmJpNY",
        "colab_type": "code",
        "colab": {
          "base_uri": "https://localhost:8080/",
          "height": 187
        },
        "outputId": "6c1a31a6-a85c-43b7-8f9f-76f512447f38"
      },
      "source": [
        "# More broadcasting examples\n",
        "print(np.arange(3) + 5)  # \"[5, 6, 7]\"\n",
        "print(np.ones([3, 3]) + np.arange(3))\n",
        "# \"[[1, 2, 3],\n",
        "# [1, 2, 3],\n",
        "# [1, 2, 3]]\"\n",
        "\n",
        "x = np.arange(3).reshape([3, 1])\n",
        "print(x)  # \"[[0], [1], [2]]\" with shape (3, 1)\n",
        "print(x + np.arange(3)) \n",
        "# \"[[0, 1, 2]\n",
        "# [1, 2, 3],\n",
        "# [2, 3, 4]]\""
      ],
      "execution_count": 36,
      "outputs": [
        {
          "output_type": "stream",
          "text": [
            "[5 6 7]\n",
            "[[1. 2. 3.]\n",
            " [1. 2. 3.]\n",
            " [1. 2. 3.]]\n",
            "[[0]\n",
            " [1]\n",
            " [2]]\n",
            "[[0 1 2]\n",
            " [1 2 3]\n",
            " [2 3 4]]\n"
          ],
          "name": "stdout"
        }
      ]
    },
    {
      "cell_type": "markdown",
      "metadata": {
        "id": "NcviqcROLhSx",
        "colab_type": "text"
      },
      "source": [
        "## 09 - Matplotlib Tutorials\n",
        "\n",
        "Matplotlib helps you to visualize the data and matrices you are playing with.\n",
        "To use Matplotlib in this Colab notebook, you should first import relevant libraries first.\n",
        "\n",
        "\n"
      ]
    },
    {
      "cell_type": "code",
      "metadata": {
        "id": "xujk9eX7MgmO",
        "colab_type": "code",
        "colab": {}
      },
      "source": [
        "import numpy as np\n",
        "#This enales usage of Matplotlib inside the Colab notebook.\n",
        "%matplotlib inline \n",
        "from matplotlib import pyplot as plt"
      ],
      "execution_count": 42,
      "outputs": []
    },
    {
      "cell_type": "markdown",
      "metadata": {
        "id": "Q2JFLwTZMiId",
        "colab_type": "text"
      },
      "source": [
        "### Plotting dots"
      ]
    },
    {
      "cell_type": "code",
      "metadata": {
        "id": "hHN_EICMJqMT",
        "colab_type": "code",
        "colab": {
          "base_uri": "https://localhost:8080/",
          "height": 265
        },
        "outputId": "26c101e6-61f6-4cbb-bcb4-4d96a50c282d"
      },
      "source": [
        "# plotting dots\n",
        "y = np.array([1, -1, 2])\n",
        "x = np.array([0, 1, 2])\n",
        "\n",
        "plt.scatter(x, y)\n",
        "plt.show()"
      ],
      "execution_count": 43,
      "outputs": [
        {
          "output_type": "display_data",
          "data": {
            "image/png": "[encoded data removed]",
            "text/plain": [
              "<Figure size 432x288 with 1 Axes>"
            ]
          },
          "metadata": {
            "tags": [],
            "needs_background": "light"
          }
        }
      ]
    },
    {
      "cell_type": "markdown",
      "metadata": {
        "id": "qhQxtLycMK89",
        "colab_type": "text"
      },
      "source": [
        "## plotting random 1-dimensional data\n"
      ]
    },
    {
      "cell_type": "code",
      "metadata": {
        "id": "eH4ADYC4MKev",
        "colab_type": "code",
        "colab": {
          "base_uri": "https://localhost:8080/",
          "height": 265
        },
        "outputId": "1041173d-e02a-40fe-e009-65673899cd00"
      },
      "source": [
        "# plotting random 1-dimensional data\n",
        "num_data = 100\n",
        "y = np.random.random(num_data)\n",
        "x = np.arange(num_data)\n",
        "plt.scatter(x, y)\n",
        "plt.show()"
      ],
      "execution_count": 45,
      "outputs": [
        {
          "output_type": "display_data",
          "data": {
            "image/png": "[encoded data removed]",
            "text/plain": [
              "<Figure size 432x288 with 1 Axes>"
            ]
          },
          "metadata": {
            "tags": [],
            "needs_background": "light"
          }
        }
      ]
    },
    {
      "cell_type": "markdown",
      "metadata": {
        "id": "tJaRnjdVM1fR",
        "colab_type": "text"
      },
      "source": [
        "## plotting linear data with noise\n"
      ]
    },
    {
      "cell_type": "code",
      "metadata": {
        "id": "Z3pwdkUyM3XJ",
        "colab_type": "code",
        "colab": {
          "base_uri": "https://localhost:8080/",
          "height": 265
        },
        "outputId": "f0d87054-e559-4624-c5e1-ed76c4caf56e"
      },
      "source": [
        "# plotting linear data with noise\n",
        "num_data = 50\n",
        "# create numpy array starting with 0 and ending with 5,\n",
        "# with length num_data and equal interval\n",
        "y = np.linspace(0, 5, num_data)\n",
        "# add noise to the data\n",
        "y = y + np.random.random(num_data)\n",
        "x = np.arange(num_data)\n",
        "plt.scatter(x, y)\n",
        "plt.plot(x,y)  # creates the lines\n",
        "plt.show()"
      ],
      "execution_count": 46,
      "outputs": [
        {
          "output_type": "display_data",
          "data": {
            "image/png": "[encoded data removed]",
            "text/plain": [
              "<Figure size 432x288 with 1 Axes>"
            ]
          },
          "metadata": {
            "tags": [],
            "needs_background": "light"
          }
        }
      ]
    },
    {
      "cell_type": "markdown",
      "metadata": {
        "id": "zUZvkA65M57h",
        "colab_type": "text"
      },
      "source": [
        "## ploting histogram of random data\n"
      ]
    },
    {
      "cell_type": "code",
      "metadata": {
        "id": "Ipd7VUPNM5DC",
        "colab_type": "code",
        "colab": {
          "base_uri": "https://localhost:8080/",
          "height": 265
        },
        "outputId": "a162c8ad-caec-41a2-c82c-c4d0fc8887fe"
      },
      "source": [
        "# plotting linear data with noise\n",
        "num_data = 50\n",
        "# create numpy array starting with 0 and ending with 5,\n",
        "# with length num_data and equal interval\n",
        "y = np.linspace(0, 5, num_data)\n",
        "# add noise to the data\n",
        "y = y + np.random.random(num_data)\n",
        "x = np.arange(num_data)\n",
        "plt.scatter(x, y)\n",
        "plt.plot(x,y)  # creates the lines\n",
        "plt.show()"
      ],
      "execution_count": 47,
      "outputs": [
        {
          "output_type": "display_data",
          "data": {
            "image/png": "[encoded data removed]",
            "text/plain": [
              "<Figure size 432x288 with 1 Axes>"
            ]
          },
          "metadata": {
            "tags": [],
            "needs_background": "light"
          }
        }
      ]
    },
    {
      "cell_type": "markdown",
      "metadata": {
        "id": "oOM7tnlLM81k",
        "colab_type": "text"
      },
      "source": [
        "## ploting histogram of random data\n"
      ]
    },
    {
      "cell_type": "code",
      "metadata": {
        "id": "tLAbCfFoM-9C",
        "colab_type": "code",
        "colab": {
          "base_uri": "https://localhost:8080/",
          "height": 265
        },
        "outputId": "ffd74da4-730d-4f2b-c0dd-be104c27b6fe"
      },
      "source": [
        "# ploting histogram of random data\n",
        "data = np.array([\n",
        "    42, 43, 46, 50, \n",
        "    48, 40, 38, 46, \n",
        "    50, 52, 54, 58, \n",
        "    46, 48, 51, 52, \n",
        "    56, 60, 39, 61, \n",
        "    52, 45, 44, 45\n",
        "])\n",
        "num_bins = 10\n",
        "plt.hist(data, bins=num_bins)\n",
        "plt.show()"
      ],
      "execution_count": 48,
      "outputs": [
        {
          "output_type": "display_data",
          "data": {
            "image/png": "[encoded data removed]",
            "text/plain": [
              "<Figure size 432x288 with 1 Axes>"
            ]
          },
          "metadata": {
            "tags": [],
            "needs_background": "light"
          }
        }
      ]
    },
    {
      "cell_type": "markdown",
      "metadata": {
        "id": "_YbufhuDNAxh",
        "colab_type": "text"
      },
      "source": [
        "## ploting histogram of random data\n"
      ]
    },
    {
      "cell_type": "code",
      "metadata": {
        "id": "uYfhfWmWNCzk",
        "colab_type": "code",
        "colab": {
          "base_uri": "https://localhost:8080/",
          "height": 265
        },
        "outputId": "0f857e1d-e2ba-45e5-9a3e-0c9af00365f8"
      },
      "source": [
        "# ploting histogram of random data\n",
        "num_data = 1000\n",
        "num_bins = 10\n",
        "data = np.random.random(num_data)\n",
        "plt.hist(data, bins=num_bins)\n",
        "plt.show()"
      ],
      "execution_count": 49,
      "outputs": [
        {
          "output_type": "display_data",
          "data": {
            "image/png": "[encoded data removed]",
            "text/plain": [
              "<Figure size 432x288 with 1 Axes>"
            ]
          },
          "metadata": {
            "tags": [],
            "needs_background": "light"
          }
        }
      ]
    },
    {
      "cell_type": "code",
      "metadata": {
        "id": "3B6RB4A_NGns",
        "colab_type": "code",
        "colab": {}
      },
      "source": [
        ""
      ],
      "execution_count": null,
      "outputs": []
    }
  ]
}