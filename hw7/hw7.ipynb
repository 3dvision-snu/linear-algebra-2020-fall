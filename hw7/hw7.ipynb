{
 "cells": [
  {
   "cell_type": "code",
   "execution_count": 1,
   "metadata": {},
   "outputs": [],
   "source": [
    "import numpy as np\n",
    "%matplotlib inline\n",
    "from matplotlib import pyplot as plt"
   ]
  },
  {
   "cell_type": "markdown",
   "metadata": {},
   "source": [
    "# Linear Algebra for Electrical Engineers\n",
    "\n",
    "\n",
    "## HW07: Polynomial fitting using least squares method + $k$-fold cross validation\n",
    "\n",
    "---\n",
    "\n",
    "- In this homework, you will be aksed to implement a least squares method that fits polynomial functions to the given data points.\n",
    "\n",
    "- Since this is an integrated method that incorporates several concepts we learned throughout this course (Vandermonde matrix, Gram-Schmidt, QR factorization, and least squares),\n",
    "we provide the codes for **Gram_Schmidt** and **QR factorization**.\n",
    "\n",
    "- This HW consists of 4 problems.\n",
    "    - Problem 1. implementing Vandermonde matrix (0.1 point)\n",
    "    - Problem 2. (0.6 point)\n",
    "        - (a) implementing back-substitution (0.3 point)\n",
    "        - (b) integrating QR factorization with back-substitution (0.3 point)\n",
    "    - Problem 3. data fitting with least squares (0.2 point)\n",
    "    - Problem 4. $k$-fold cross validaton (0.1 point)\n",
    "\n",
    "- please fill out all the \n",
    "\n",
    "        # Problem #N. fill out here.\n",
    "\n",
    "    of given skeleton code.\n",
    "\n",
    "### NOTE: methods you should NOT use for this assignment:\n",
    "      np.linalg, scikit-learn()"
   ]
  },
  {
   "cell_type": "markdown",
   "metadata": {},
   "source": [
    "\n",
    "To begin, we'll use Vandermonde matrix we learned in this course (Section 6.4) to effectively express the polynomial."
   ]
  },
  {
   "cell_type": "markdown",
   "metadata": {},
   "source": [
    "## Problem 1. Implementing Vandermonde matrix (0.1 point)\n",
    "\n",
    "\n",
    "- e.g. if we're to evaluate at $4$ points $-1, 0, 0.5, 1$ for $5$ degree polynomial, the polynomial $y$ can be evalated as matrix-vector multiplication with Vandermonde matrix as\n",
    "\n",
    "\\begin{align}\n",
    "\\begin{bmatrix}\n",
    "\t\ty_1\\\\\n",
    "\t\ty_2\\\\\n",
    "\t\ty_3\\\\\n",
    "\t\ty_4\\\\\n",
    "\t\t\\end{bmatrix}=\n",
    "\t\t\\begin{bmatrix}\n",
    "\t\t\t1.0 & -1.0 & 1.0 & -1.0 & 1.0 \\\\\n",
    "\t\t\t1.0 & 0.0 & 0.0 & 0.0 & 0.0 \\\\\n",
    "\t\t\t1.0 & 0.5 & 0.25 & 0.125 & 0.0625 \\\\\n",
    "\t\t\t1.0 & 1.0 & 1.0 & 1.0 & 1.0\\\\\n",
    "\t\t\\end{bmatrix}\n",
    "\t\t\\begin{bmatrix}\n",
    "\t\tc_1\\\\\n",
    "\t\tc_2\\\\\n",
    "\t\tc_3\\\\\n",
    "\t\tc_4\\\\\n",
    "\t\tc_5\\\\\n",
    "\t\t\\end{bmatrix}\n",
    "\\end{align}\n",
    "\n",
    "- In problem 1, you're goint to implement a function of Vandermonde matrix, which will be used in forthcoming problems.\n",
    "- **NOTE**: The Vandermonde function should be 'generic'.\n",
    "- You can either implement one of the two methods. (you get full grade for just implementing one of the two.)"
   ]
  },
  {
   "cell_type": "code",
   "execution_count": 2,
   "metadata": {},
   "outputs": [
    {
     "output_type": "error",
     "ename": "SyntaxError",
     "evalue": "invalid syntax (<ipython-input-2-4094432e5cb0>, line 5)",
     "traceback": [
      "\u001b[0;36m  File \u001b[0;32m\"<ipython-input-2-4094432e5cb0>\"\u001b[0;36m, line \u001b[0;32m5\u001b[0m\n\u001b[0;31m    vandermonde = lambda t, n: np.# TODO: Problem1, fill in here.([t**i for i in range(n)])\u001b[0m\n\u001b[0m                                                                                           ^\u001b[0m\n\u001b[0;31mSyntaxError\u001b[0m\u001b[0;31m:\u001b[0m invalid syntax\n"
     ]
    }
   ],
   "source": [
    "#NOTE: choose one of the two method to implement vandermonde.\n",
    "\n",
    "# Method 1) # refer to python lambda function: https://wikidocs.net/64\n",
    "vandermonde = lambda t, n: np.# TODO: Problem1, fill in here.([t**i for i in range(n)])\n",
    "\n",
    "# Method 2)\n",
    "def vandermonde(t, n):\n",
    "    m = len(t)\n",
    "    V = np.zeros((m,n))\n",
    "    for i in # TODO: Problem1, fill in here.:\n",
    "        for j in # TODO: Problem1, fill in here.:\n",
    "            V[i,j] = # TODO: Problem1, fill in here.\n",
    "    return V"
   ]
  },
  {
   "cell_type": "code",
   "execution_count": 3,
   "metadata": {},
   "outputs": [
    {
     "output_type": "error",
     "ename": "NameError",
     "evalue": "name 'vandermonde' is not defined",
     "traceback": [
      "\u001b[0;31m---------------------------------------------------------------------------\u001b[0m",
      "\u001b[0;31mNameError\u001b[0m                                 Traceback (most recent call last)",
      "\u001b[0;32m<ipython-input-3-af3fb489ad71>\u001b[0m in \u001b[0;36m<module>\u001b[0;34m\u001b[0m\n\u001b[1;32m      1\u001b[0m \u001b[0;31m# test your vandermonde function.\u001b[0m\u001b[0;34m\u001b[0m\u001b[0;34m\u001b[0m\u001b[0;34m\u001b[0m\u001b[0m\n\u001b[1;32m      2\u001b[0m \u001b[0;31m# check if the result is the same as the sample matrix written above.\u001b[0m\u001b[0;34m\u001b[0m\u001b[0;34m\u001b[0m\u001b[0;34m\u001b[0m\u001b[0m\n\u001b[0;32m----> 3\u001b[0;31m \u001b[0mvandermonde\u001b[0m\u001b[0;34m(\u001b[0m\u001b[0mnp\u001b[0m\u001b[0;34m.\u001b[0m\u001b[0marray\u001b[0m\u001b[0;34m(\u001b[0m\u001b[0;34m[\u001b[0m\u001b[0;34m-\u001b[0m\u001b[0;36m1\u001b[0m\u001b[0;34m,\u001b[0m\u001b[0;36m0\u001b[0m\u001b[0;34m,\u001b[0m\u001b[0;36m0.5\u001b[0m\u001b[0;34m,\u001b[0m\u001b[0;36m1\u001b[0m\u001b[0;34m]\u001b[0m\u001b[0;34m)\u001b[0m\u001b[0;34m,\u001b[0m\u001b[0;36m5\u001b[0m\u001b[0;34m)\u001b[0m\u001b[0;34m\u001b[0m\u001b[0;34m\u001b[0m\u001b[0m\n\u001b[0m",
      "\u001b[0;31mNameError\u001b[0m: name 'vandermonde' is not defined"
     ]
    }
   ],
   "source": [
    "# test your vandermonde function. \n",
    "# check if the result is the same as the sample matrix written above.\n",
    "vandermonde(np.array([-1,0,0.5,1]),5)\n"
   ]
  },
  {
   "cell_type": "markdown",
   "metadata": {},
   "source": [
    "## Problem 2. Least squares method (0.6 point total)\n",
    "\n",
    "- As we studied in this class (Section 13.1), the polynomial function can be described using Vandermonde matrix. If polynomial equation\n",
    "of degree at most $p - 1$ with the parameter $\\theta$ is\n",
    "\n",
    "\\begin{align}\n",
    "\\hat{f}(x) = \\theta_1 + \\theta_1 x + \\cdots + \\theta_p x^{p-1},\n",
    "\\end{align}\n",
    "\n",
    "- Then Vandermonde matrix can be described as \n",
    "\n",
    "\\begin{align}\n",
    "\t\t\\begin{bmatrix}\n",
    "\t\t\t1.0 & x^{(1)} & \\cdots & (x^{(1)})^{p-1} \\\\\n",
    "\t\t\t1.0 & x^{(2)} & \\cdots & (x^{(2)})^{p-1}  \\\\\n",
    "\t\t\t\\vdots & \\vdots &  & \\vdots\\\\\n",
    "\t\t\t1.0 & x^(N) & \\cdots & (x^{(N)})^{p-1}\\\\\n",
    "\t\t\\end{bmatrix}.\n",
    "\\end{align}\n",
    "\n",
    "- We'll use the Vandermonde matrix we implemented in Problem 1 to effectively describe the polynomial.\n",
    "\n",
    "\n"
   ]
  },
  {
   "cell_type": "markdown",
   "metadata": {},
   "source": [
    "We will use *Least Squares* method we learned in this course, where \n",
    "we use *QR factorization* to compute the approximate of least squares. (please refer to Chapter 12.3).\n",
    "\n",
    "As written in **Algorithm 12.1** of our textbook (pp.232), the pseudocode for the least squares method is as follows. (see also Algorithm 11.2 of pp.208)\n",
    "\n",
    "\n",
    "### Least squares via QR factorization\n",
    "\n",
    "Solving a square system of linear equations $A\\mathbf{x} = \\mathbf{b}$ where $A$ is invertible yields \n",
    "\n",
    "\\begin{aligned}\n",
    "\\mathbf{x} = A^{-1}\\mathbf{b}=R^{-1}Q^{\\top}\\mathbf{b}.\n",
    "\\end{aligned}\n",
    "\n",
    "\n",
    "This can be done in the following three steps.\n",
    "given an $m \\times n$ matrix $A$ with linearly independent columns and $m$-vector $\\mathbf{b}$,\n",
    "\n",
    "\n",
    "1. Compute QR factorization $A=QR$.\n",
    "2. Compute $Q^{\\top}\\mathbf{b}$.\n",
    "3. Solve the triangular equation $R\\hat{\\mathbf{x}}=Q^{\\top}\\mathbf{b}$. (back substitution)\n",
    "\n",
    "\n",
    "---\n",
    "\n",
    "\n",
    "Here we provide the Gram-Schmidt algorithm and QR-factorization, and you may use these methods to implement the three steps of the pseudocode.\n"
   ]
  },
  {
   "cell_type": "code",
   "execution_count": 4,
   "metadata": {},
   "outputs": [],
   "source": [
    "# This implementation is based on Algorithm 5.1 of the textbook. (pp.97)\n",
    "def gram_schmidt(a):\n",
    "    \"\"\"\n",
    "    in: a - length k list of n-dim np.arrays.\n",
    "    out: q - length k list of n-dim orthonormal np.arrays. \n",
    "    \"\"\"\n",
    "    q = []\n",
    "    # orthogonalization\n",
    "    for i in range(len(a)): # for i = 1, ..., k\n",
    "        q_tilde = a[i]\n",
    "        for j in range(len(q)): # for each dimension of q_tilde\n",
    "            # recursively add dot(q)\n",
    "            q_tilde = q_tilde - (np.dot(q[j], a[i]))*q[j]\n",
    "        # Test for linear dependence\n",
    "        if np.sqrt(np.sum(q_tilde**2)) <= 1e-10:\n",
    "            print('Vectors are linearly dependent.')\n",
    "            print('GS algorithm terminates at iteration ', i+1)\n",
    "            return q\n",
    "        #Normalization\n",
    "        else:\n",
    "            q_tilde = q_tilde / (np.sqrt(np.sum(q_tilde**2))\n",
    "            q.append(q_tilde)\n",
    "    return q\n"
   ]
  },
  {
   "cell_type": "code",
   "execution_count": 5,
   "metadata": {},
   "outputs": [
    {
     "output_type": "stream",
     "name": "stdout",
     "text": [
      "[array([-0.5,  0.5, -0.5,  0.5]), array([0.5, 0.5, 0.5, 0.5]), array([-0.5, -0.5,  0.5,  0.5])]\nNorm of each vector: 1.0 1.0 1.0\nAre they orthogonal to each other?\nInner product of q_1 and q_2: 0.0\nInner product of q_2 and q_3: 0.0\nInner product of q_3 and q_1: 0.0\n"
     ]
    }
   ],
   "source": [
    "def norm(v):\n",
    "    return np.sum(v**2)**0.5\n",
    "\n",
    "# First, check the Gram-Schmidt algorithm works.\n",
    "# We give gram_schmidt() the length k list of numpy arrays describing n-vectors.\n",
    "# Let's apply gram_schmidt() on the following three 4-vectors (pp.100).\n",
    "a = [np.array([-1, 1, -1, 1]), np.array([-1, 3, -1, 3]), np.array([1, 3, 5, 7])]\n",
    "q = gram_schmidt(a)\n",
    "# three orthonormal vectors.\n",
    "print(q)\n",
    "# check the norm of each vector.\n",
    "print(\"Norm of each vector:\", norm(q[0]), norm(q[1]), norm(q[2]))\n",
    "print(\"Are they orthogonal to each other?\")\n",
    "print(\"Inner product of q_1 and q_2:\", np.dot(q[0], q[1]))\n",
    "print(\"Inner product of q_2 and q_3:\", np.dot(q[1], q[2]))\n",
    "print(\"Inner product of q_3 and q_1:\", np.dot(q[2], q[0]))\n",
    "\n"
   ]
  },
  {
   "cell_type": "markdown",
   "metadata": {},
   "source": [
    "Our gram_schmidt works!\n",
    "Now we apply this algorithm to do QR factorization.\n",
    "\n",
    "As written in pp.190 of our textbook, we first define a matrix $A$ whose $n$ column vectors $\\mathbf{a}_1, \\cdots, \\mathbf{a}_k.$ are linearly independent $k$-vectors. Thus $A$ is $n \\times k$ matrix.\n",
    "\n",
    "Also, let matrix $Q$ be $n \\times k$ matrix with its columns $\\mathbf{q}_1, \\cdots, \\mathbf{q}_k.$ are orthonormal vectors produced by the Gram-Schmidt algorithm.\n",
    "\n",
    "Then, the relation btwn $a_i$ and $q_i$ becomes,\n",
    "\n",
    "\\begin{aligned}\n",
    "a_i = (q^{\\top}_1 a_i) + \\cdots + (q^{\\top}_{i-1} a_i) + \\| \\tilde{q}_i\\|q_i,\n",
    "\\end{aligned}\n",
    "\n",
    "where $\\tilde{q}_i$ is the vector obtained in the first step of the Gram-Schmidt algorithm, as\n",
    "\n",
    "\\begin{aligned}\n",
    "a_i = R_{1i} q_1 + \\cdots + R_{ii} q_i,\n",
    "\\end{aligned}\n",
    "\n",
    "where $R_{ij} = q^{\\top}_i a_j$ for $i < j$ and $R_{ii}=\\|\\tilde{q}_i\\|$.\n",
    "\n",
    "Defining $R_{ij} = 0$ for $i > j$, we can write the equations above in compact matrix form as \n",
    "\n",
    "\\begin{aligned}\n",
    "A = QR.\n",
    "\\end{aligned}\n",
    "\n",
    "\n",
    "\n",
    "- (different form HW6) the QR decomposition can be implemented as follows."
   ]
  },
  {
   "cell_type": "code",
   "execution_count": 6,
   "metadata": {},
   "outputs": [],
   "source": [
    "def QR_factorization(A):\n",
    "    \"\"\"\n",
    "    in: numpy array whose k columns are linearly independent.\n",
    "    \"\"\"\n",
    "    # we feed gram_schmidt() A.T since it orthonormalizes row vectors of the input array. Thus, we get transposed array whose rows are orthonormal. \n",
    "    Q_transpose = np.array(gram_schmidt(A.T))\n",
    "    R = Q_transpose @ A # since Q^T = Q^-1\n",
    "    Q = Q_transpose.T\n",
    "    return Q, R"
   ]
  },
  {
   "cell_type": "code",
   "execution_count": 15,
   "metadata": {},
   "outputs": [
    {
     "output_type": "stream",
     "name": "stdout",
     "text": [
      "[[ 3.09218983e+00 -1.96032465e-01  6.86236168e-01 -4.43873169e-02]\n [-4.13778626e-17  1.22454135e+00 -1.98737677e+00 -6.05003089e-01]\n [-1.16227162e-16  1.65484920e-16  2.27959949e+00  2.00998889e-01]\n [-1.72023009e-16 -4.85997071e-17  1.75839960e-16  1.90967429e+00]]\nTrue\nTrue\n"
     ]
    }
   ],
   "source": [
    "# Let's check if QR_factorization() works.\n",
    "# first create a matrix whose columns are linearly independent.\n",
    "A = np.random.normal(size = (6,4)) # (n=6, k=4)\n",
    "\n",
    "Q, R = QR_factorization(A)\n",
    "\n",
    "print(R) # we can see that R is upper triangular.\n",
    "\n",
    "print(np.allclose( Q @ R, A)) # matmul of Q and R yields A.\n",
    "\n",
    "print(np.allclose(Q.T @ Q, np.eye(4))) # matmul of Q^T Q yields I. \n"
   ]
  },
  {
   "cell_type": "markdown",
   "metadata": {},
   "source": [
    "## Problem 2a) implementing back substitution (0.3 point)\n",
    "\n",
    "In this sub problem, you will implement *back substitution* that is the last step of solving linear equation. Please refer to Chapter 11.3 (pp.207)\n",
    "\n",
    "### Back substitution\n",
    "solve a set of linear equations, $R\\mathbf{x} = \\mathbf{b}$, where $n \\times n$ matrix $R$ is upper triangular matrix with non-zero diagonal entries.\n",
    "\n",
    "\n",
    "---\n",
    "given an $n \\times n$ upper triangular matrix $R$ with nonzero diagonal entries, and an $n$-vector $\\mathbf{b}$,\n",
    "\n",
    "\\begin{aligned}\n",
    "\\text{For}~~i = n, \\cdots, 1, \\\\\n",
    "x_i = (b_i - R_{i,i+1}x_{i+1} - \\cdots - R_{i,n}x_{n})/R_{i,i}\n",
    "\\end{aligned}\n",
    "\n"
   ]
  },
  {
   "cell_type": "code",
   "execution_count": 8,
   "metadata": {},
   "outputs": [
    {
     "output_type": "error",
     "ename": "SyntaxError",
     "evalue": "invalid syntax (<ipython-input-8-91c4a74bcbf9>, line 5)",
     "traceback": [
      "\u001b[0;36m  File \u001b[0;32m\"<ipython-input-8-91c4a74bcbf9>\"\u001b[0;36m, line \u001b[0;32m5\u001b[0m\n\u001b[0;31m    for i in # TODO: Problem2, fill in here.:\u001b[0m\n\u001b[0m                                             ^\u001b[0m\n\u001b[0;31mSyntaxError\u001b[0m\u001b[0;31m:\u001b[0m invalid syntax\n"
     ]
    }
   ],
   "source": [
    "def back_substitution(R, b):\n",
    "    n = R.shape[0]\n",
    "    x = np.zeros(n)\n",
    "    # iterate in a reversed order: n, ..., 1.\n",
    "    for i in # TODO: Problem2, fill in here.:\n",
    "        x[i] = b[i]\n",
    "        # recursively subtract R_{i,i+1} x_{i+1}\n",
    "        for j in # TODO: Problem2, fill in here.:\n",
    "            x[i] = x[i] - # TODO: Problem2, fill in here.\n",
    "        # finally divide by R_{i,i}\n",
    "        x[i] = x[i]/ # TODO: Problem2, fill in here.\n",
    "    return x\n",
    "\n",
    "# Let's test our algorithm.\n",
    "# create 4X4 random upper triangle matrix \n",
    "R = np.triu(np.random.random((4, 4)))\n",
    "b = np.random.random(4)\n",
    "x = back_substitution(R, b)\n",
    "\n",
    "# check if we have solved it.\n",
    "# you get a point if it returns true.\n",
    "np.allclose(R@x, b)"
   ]
  },
  {
   "cell_type": "markdown",
   "metadata": {},
   "source": [
    "Now we have all the ingredients for implementing the least squares method:\n",
    "-  Vandermonde matrix (problem 1)\n",
    "- Gram-Schmidt & QR-factorization (given)\n",
    "- back-substitution (problem 2(a))\n",
    "---\n",
    "\n",
    "Then, let's implement the least squares method.\n",
    "\n",
    "\n",
    "## Problem 2b) integrating QR factorization with back-substitution. (0.3 point)\n",
    "\n",
    "Here, we implement a function that does \n",
    "\n",
    "\\begin{aligned}\n",
    "\\mathbf{x} = A^{-1}\\mathbf{b}=R^{-1}Q^{\\top}\\mathbf{b},\n",
    "\\end{aligned}\n",
    "\n",
    "where\n",
    "\n",
    "- $A$ is $n \\times n$ square matrix that represents $n$ linear equations with $n$ variables, and invertible.\n",
    "- $\\mathbf{b}$ is $n$-vector.\n",
    "\n",
    "using the given QR_factorization() function and back_subst() we implemented.\n"
   ]
  },
  {
   "cell_type": "code",
   "execution_count": 9,
   "metadata": {},
   "outputs": [
    {
     "output_type": "error",
     "ename": "SyntaxError",
     "evalue": "invalid syntax (<ipython-input-9-4a0a27f35af4>, line 7)",
     "traceback": [
      "\u001b[0;36m  File \u001b[0;32m\"<ipython-input-9-4a0a27f35af4>\"\u001b[0;36m, line \u001b[0;32m7\u001b[0m\n\u001b[0;31m    Q, R = # TODO: Problem#2, fill in here.\u001b[0m\n\u001b[0m                                           ^\u001b[0m\n\u001b[0;31mSyntaxError\u001b[0m\u001b[0;31m:\u001b[0m invalid syntax\n"
     ]
    }
   ],
   "source": [
    "\n",
    "def solve_linear_equation(A, b):\n",
    "    \"\"\"\n",
    "    in: A - numpy array that represents invertible square matrix.\n",
    "        b - numpy array representing n vector.\n",
    "    \"\"\"\n",
    "    # 1) QR factorize A.\n",
    "    Q, R = # TODO: Problem#2, fill in here.\n",
    "    # compute Q^T b\n",
    "    b_tilde = # TODO: Problem#2, fill in here.\n",
    "    # solve the triangular equation Rx = Q^T b using backsubstitution.\n",
    "    x = # TODO: Problem#2, fill in here.\n",
    "    return x\n",
    "\n",
    "# generate random linear equation.\n",
    "n = 10\n",
    "A = np.random.normal(size = (n, n))\n",
    "b = np.random.normal(size = n)\n",
    "x = solve_linear_equation(A, b)\n",
    "\n",
    "# reference solution\n",
    "x_ref = np.linalg.solve(A, b)\n",
    "\n",
    "# compare your method with the reference.\n",
    "# you get a point if it returns true.\n",
    "np.allclose(x, x_ref)\n",
    "\n"
   ]
  },
  {
   "cell_type": "markdown",
   "metadata": {},
   "source": [
    "## Problem 3) data fitting with least squares. (0.2 point)\n",
    "\n",
    "We investigate the polynomial fitting case (pp.255).\n",
    "\n",
    "As introduced at the beginning of Problem.2, we'll us the Vandermonde\n",
    "\n",
    "matrix of the form\n",
    "\n",
    "\\begin{align}\n",
    "\t\t\\begin{bmatrix}\n",
    "\t\t\t1.0 & x^{(1)} & \\cdots & (x^{(1)})^{p-1} \\\\\n",
    "\t\t\t1.0 & x^{(2)} & \\cdots & (x^{(2)})^{p-1}  \\\\\n",
    "\t\t\t\\vdots & \\vdots &  & \\vdots\\\\\n",
    "\t\t\t1.0 & x^{(N)} & \\cdots & (x^{(N)})^{p-1}\\\\\n",
    "\t\t\\end{bmatrix}\n",
    "\\end{align}\n",
    "\n",
    "to fit a polynomial\n",
    "\n",
    "\\begin{aligned}\n",
    "\\hat{f}(x) = \\theta_1 + \\theta_2 x + \\cdots + \\theta_p x^{p-1}.\n",
    "\\end{aligned}\n",
    "\n",
    "To begin, let's generate random data points.\n",
    "\n",
    "\n"
   ]
  },
  {
   "cell_type": "code",
   "execution_count": 10,
   "metadata": {},
   "outputs": [
    {
     "output_type": "display_data",
     "data": {
      "text/plain": "<Figure size 432x288 with 1 Axes>",
      "image/svg+xml": "<?xml version=\"1.0\" encoding=\"utf-8\" standalone=\"no\"?>\n<!DOCTYPE svg PUBLIC \"-//W3C//DTD SVG 1.1//EN\"\n  \"http://www.w3.org/Graphics/SVG/1.1/DTD/svg11.dtd\">\n<!-- Created with matplotlib (https://matplotlib.org/) -->\n<svg height=\"248.518125pt\" version=\"1.1\" viewBox=\"0 0 380.482812 248.518125\" width=\"380.482812pt\" xmlns=\"http://www.w3.org/2000/svg\" xmlns:xlink=\"http://www.w3.org/1999/xlink\">\n <defs>\n  <style type=\"text/css\">\n*{stroke-linecap:butt;stroke-linejoin:round;}\n  </style>\n </defs>\n <g id=\"figure_1\">\n  <g id=\"patch_1\">\n   <path d=\"M -0 248.518125 \nL 380.482812 248.518125 \nL 380.482812 0 \nL -0 0 \nz\n\" style=\"fill:none;\"/>\n  </g>\n  <g id=\"axes_1\">\n   <g id=\"patch_2\">\n    <path d=\"M 38.482813 224.64 \nL 373.282813 224.64 \nL 373.282813 7.2 \nL 38.482813 7.2 \nz\n\" style=\"fill:#ffffff;\"/>\n   </g>\n   <g id=\"PathCollection_1\">\n    <defs>\n     <path d=\"M 0 3 \nC 0.795609 3 1.55874 2.683901 2.12132 2.12132 \nC 2.683901 1.55874 3 0.795609 3 0 \nC 3 -0.795609 2.683901 -1.55874 2.12132 -2.12132 \nC 1.55874 -2.683901 0.795609 -3 0 -3 \nC -0.795609 -3 -1.55874 -2.683901 -2.12132 -2.12132 \nC -2.683901 -1.55874 -3 -0.795609 -3 0 \nC -3 0.795609 -2.683901 1.55874 -2.12132 2.12132 \nC -1.55874 2.683901 -0.795609 3 0 3 \nz\n\" id=\"m025067ee00\" style=\"stroke:#1f77b4;\"/>\n    </defs>\n    <g clip-path=\"url(#p4037bf5a2f)\">\n     <use style=\"fill:#1f77b4;stroke:#1f77b4;\" x=\"56.096041\" xlink:href=\"#m025067ee00\" y=\"96.993165\"/>\n     <use style=\"fill:#1f77b4;stroke:#1f77b4;\" x=\"175.793419\" xlink:href=\"#m025067ee00\" y=\"60.607432\"/>\n     <use style=\"fill:#1f77b4;stroke:#1f77b4;\" x=\"353.156881\" xlink:href=\"#m025067ee00\" y=\"176.36189\"/>\n     <use style=\"fill:#1f77b4;stroke:#1f77b4;\" x=\"159.367711\" xlink:href=\"#m025067ee00\" y=\"46.817567\"/>\n     <use style=\"fill:#1f77b4;stroke:#1f77b4;\" x=\"75.019771\" xlink:href=\"#m025067ee00\" y=\"81.530616\"/>\n     <use style=\"fill:#1f77b4;stroke:#1f77b4;\" x=\"171.859958\" xlink:href=\"#m025067ee00\" y=\"47.139306\"/>\n     <use style=\"fill:#1f77b4;stroke:#1f77b4;\" x=\"275.575731\" xlink:href=\"#m025067ee00\" y=\"193.215923\"/>\n     <use style=\"fill:#1f77b4;stroke:#1f77b4;\" x=\"186.321965\" xlink:href=\"#m025067ee00\" y=\"26.887897\"/>\n     <use style=\"fill:#1f77b4;stroke:#1f77b4;\" x=\"147.602074\" xlink:href=\"#m025067ee00\" y=\"72.584198\"/>\n     <use style=\"fill:#1f77b4;stroke:#1f77b4;\" x=\"306.287927\" xlink:href=\"#m025067ee00\" y=\"147.673206\"/>\n     <use style=\"fill:#1f77b4;stroke:#1f77b4;\" x=\"246.599572\" xlink:href=\"#m025067ee00\" y=\"165.579426\"/>\n     <use style=\"fill:#1f77b4;stroke:#1f77b4;\" x=\"58.038268\" xlink:href=\"#m025067ee00\" y=\"99.646821\"/>\n     <use style=\"fill:#1f77b4;stroke:#1f77b4;\" x=\"303.803025\" xlink:href=\"#m025067ee00\" y=\"211.677143\"/>\n     <use style=\"fill:#1f77b4;stroke:#1f77b4;\" x=\"296.045884\" xlink:href=\"#m025067ee00\" y=\"192.985249\"/>\n     <use style=\"fill:#1f77b4;stroke:#1f77b4;\" x=\"280.909156\" xlink:href=\"#m025067ee00\" y=\"213.931361\"/>\n     <use style=\"fill:#1f77b4;stroke:#1f77b4;\" x=\"242.602407\" xlink:href=\"#m025067ee00\" y=\"124.181847\"/>\n     <use style=\"fill:#1f77b4;stroke:#1f77b4;\" x=\"80.459215\" xlink:href=\"#m025067ee00\" y=\"75.394775\"/>\n     <use style=\"fill:#1f77b4;stroke:#1f77b4;\" x=\"310.156343\" xlink:href=\"#m025067ee00\" y=\"171.5235\"/>\n     <use style=\"fill:#1f77b4;stroke:#1f77b4;\" x=\"166.64516\" xlink:href=\"#m025067ee00\" y=\"86.999334\"/>\n     <use style=\"fill:#1f77b4;stroke:#1f77b4;\" x=\"269.281011\" xlink:href=\"#m025067ee00\" y=\"124.676094\"/>\n     <use style=\"fill:#1f77b4;stroke:#1f77b4;\" x=\"344.169025\" xlink:href=\"#m025067ee00\" y=\"136.77742\"/>\n     <use style=\"fill:#1f77b4;stroke:#1f77b4;\" x=\"344.376211\" xlink:href=\"#m025067ee00\" y=\"165.52936\"/>\n     <use style=\"fill:#1f77b4;stroke:#1f77b4;\" x=\"289.545598\" xlink:href=\"#m025067ee00\" y=\"206.922163\"/>\n     <use style=\"fill:#1f77b4;stroke:#1f77b4;\" x=\"285.682415\" xlink:href=\"#m025067ee00\" y=\"162.056955\"/>\n     <use style=\"fill:#1f77b4;stroke:#1f77b4;\" x=\"264.692642\" xlink:href=\"#m025067ee00\" y=\"185.714165\"/>\n     <use style=\"fill:#1f77b4;stroke:#1f77b4;\" x=\"258.550048\" xlink:href=\"#m025067ee00\" y=\"136.293347\"/>\n     <use style=\"fill:#1f77b4;stroke:#1f77b4;\" x=\"271.828168\" xlink:href=\"#m025067ee00\" y=\"164.301602\"/>\n     <use style=\"fill:#1f77b4;stroke:#1f77b4;\" x=\"238.995788\" xlink:href=\"#m025067ee00\" y=\"147.700589\"/>\n     <use style=\"fill:#1f77b4;stroke:#1f77b4;\" x=\"282.121326\" xlink:href=\"#m025067ee00\" y=\"163.064719\"/>\n     <use style=\"fill:#1f77b4;stroke:#1f77b4;\" x=\"269.002112\" xlink:href=\"#m025067ee00\" y=\"145.271202\"/>\n     <use style=\"fill:#1f77b4;stroke:#1f77b4;\" x=\"273.014032\" xlink:href=\"#m025067ee00\" y=\"164.517888\"/>\n     <use style=\"fill:#1f77b4;stroke:#1f77b4;\" x=\"166.647416\" xlink:href=\"#m025067ee00\" y=\"36.381681\"/>\n     <use style=\"fill:#1f77b4;stroke:#1f77b4;\" x=\"239.640446\" xlink:href=\"#m025067ee00\" y=\"127.505014\"/>\n     <use style=\"fill:#1f77b4;stroke:#1f77b4;\" x=\"66.659834\" xlink:href=\"#m025067ee00\" y=\"97.466225\"/>\n     <use style=\"fill:#1f77b4;stroke:#1f77b4;\" x=\"351.820803\" xlink:href=\"#m025067ee00\" y=\"127.597366\"/>\n     <use style=\"fill:#1f77b4;stroke:#1f77b4;\" x=\"81.440381\" xlink:href=\"#m025067ee00\" y=\"82.33651\"/>\n     <use style=\"fill:#1f77b4;stroke:#1f77b4;\" x=\"274.255274\" xlink:href=\"#m025067ee00\" y=\"151.610475\"/>\n     <use style=\"fill:#1f77b4;stroke:#1f77b4;\" x=\"339.973291\" xlink:href=\"#m025067ee00\" y=\"173.439652\"/>\n     <use style=\"fill:#1f77b4;stroke:#1f77b4;\" x=\"58.520726\" xlink:href=\"#m025067ee00\" y=\"121.963952\"/>\n     <use style=\"fill:#1f77b4;stroke:#1f77b4;\" x=\"254.759032\" xlink:href=\"#m025067ee00\" y=\"169.170597\"/>\n     <use style=\"fill:#1f77b4;stroke:#1f77b4;\" x=\"97.689362\" xlink:href=\"#m025067ee00\" y=\"79.229447\"/>\n     <use style=\"fill:#1f77b4;stroke:#1f77b4;\" x=\"347.055215\" xlink:href=\"#m025067ee00\" y=\"134.491498\"/>\n     <use style=\"fill:#1f77b4;stroke:#1f77b4;\" x=\"226.567235\" xlink:href=\"#m025067ee00\" y=\"100.163388\"/>\n     <use style=\"fill:#1f77b4;stroke:#1f77b4;\" x=\"350.432773\" xlink:href=\"#m025067ee00\" y=\"145.537209\"/>\n     <use style=\"fill:#1f77b4;stroke:#1f77b4;\" x=\"107.491988\" xlink:href=\"#m025067ee00\" y=\"23.125521\"/>\n     <use style=\"fill:#1f77b4;stroke:#1f77b4;\" x=\"140.404955\" xlink:href=\"#m025067ee00\" y=\"45.116124\"/>\n     <use style=\"fill:#1f77b4;stroke:#1f77b4;\" x=\"344.052164\" xlink:href=\"#m025067ee00\" y=\"180.539175\"/>\n     <use style=\"fill:#1f77b4;stroke:#1f77b4;\" x=\"121.706275\" xlink:href=\"#m025067ee00\" y=\"71.800078\"/>\n     <use style=\"fill:#1f77b4;stroke:#1f77b4;\" x=\"195.712141\" xlink:href=\"#m025067ee00\" y=\"47.29633\"/>\n     <use style=\"fill:#1f77b4;stroke:#1f77b4;\" x=\"148.23736\" xlink:href=\"#m025067ee00\" y=\"17.083636\"/>\n     <use style=\"fill:#1f77b4;stroke:#1f77b4;\" x=\"62.879502\" xlink:href=\"#m025067ee00\" y=\"96.343238\"/>\n     <use style=\"fill:#1f77b4;stroke:#1f77b4;\" x=\"358.064631\" xlink:href=\"#m025067ee00\" y=\"131.563738\"/>\n     <use style=\"fill:#1f77b4;stroke:#1f77b4;\" x=\"175.510488\" xlink:href=\"#m025067ee00\" y=\"70.027436\"/>\n     <use style=\"fill:#1f77b4;stroke:#1f77b4;\" x=\"61.190197\" xlink:href=\"#m025067ee00\" y=\"118.968359\"/>\n     <use style=\"fill:#1f77b4;stroke:#1f77b4;\" x=\"222.447357\" xlink:href=\"#m025067ee00\" y=\"113.007457\"/>\n     <use style=\"fill:#1f77b4;stroke:#1f77b4;\" x=\"213.38709\" xlink:href=\"#m025067ee00\" y=\"91.288127\"/>\n     <use style=\"fill:#1f77b4;stroke:#1f77b4;\" x=\"245.275439\" xlink:href=\"#m025067ee00\" y=\"137.788456\"/>\n     <use style=\"fill:#1f77b4;stroke:#1f77b4;\" x=\"69.380754\" xlink:href=\"#m025067ee00\" y=\"75.416683\"/>\n     <use style=\"fill:#1f77b4;stroke:#1f77b4;\" x=\"57.462424\" xlink:href=\"#m025067ee00\" y=\"146.630005\"/>\n     <use style=\"fill:#1f77b4;stroke:#1f77b4;\" x=\"221.620018\" xlink:href=\"#m025067ee00\" y=\"73.395054\"/>\n     <use style=\"fill:#1f77b4;stroke:#1f77b4;\" x=\"236.164364\" xlink:href=\"#m025067ee00\" y=\"112.955004\"/>\n     <use style=\"fill:#1f77b4;stroke:#1f77b4;\" x=\"304.302096\" xlink:href=\"#m025067ee00\" y=\"194.125075\"/>\n     <use style=\"fill:#1f77b4;stroke:#1f77b4;\" x=\"274.685352\" xlink:href=\"#m025067ee00\" y=\"173.274142\"/>\n     <use style=\"fill:#1f77b4;stroke:#1f77b4;\" x=\"269.898476\" xlink:href=\"#m025067ee00\" y=\"163.04415\"/>\n     <use style=\"fill:#1f77b4;stroke:#1f77b4;\" x=\"143.194166\" xlink:href=\"#m025067ee00\" y=\"32.396401\"/>\n     <use style=\"fill:#1f77b4;stroke:#1f77b4;\" x=\"151.088416\" xlink:href=\"#m025067ee00\" y=\"83.668198\"/>\n     <use style=\"fill:#1f77b4;stroke:#1f77b4;\" x=\"213.524084\" xlink:href=\"#m025067ee00\" y=\"70.498535\"/>\n     <use style=\"fill:#1f77b4;stroke:#1f77b4;\" x=\"310.057528\" xlink:href=\"#m025067ee00\" y=\"178.482816\"/>\n     <use style=\"fill:#1f77b4;stroke:#1f77b4;\" x=\"228.572218\" xlink:href=\"#m025067ee00\" y=\"130.113605\"/>\n     <use style=\"fill:#1f77b4;stroke:#1f77b4;\" x=\"255.816161\" xlink:href=\"#m025067ee00\" y=\"155.663291\"/>\n     <use style=\"fill:#1f77b4;stroke:#1f77b4;\" x=\"144.882328\" xlink:href=\"#m025067ee00\" y=\"81.10272\"/>\n     <use style=\"fill:#1f77b4;stroke:#1f77b4;\" x=\"275.705389\" xlink:href=\"#m025067ee00\" y=\"183.407332\"/>\n     <use style=\"fill:#1f77b4;stroke:#1f77b4;\" x=\"193.665263\" xlink:href=\"#m025067ee00\" y=\"63.956906\"/>\n     <use style=\"fill:#1f77b4;stroke:#1f77b4;\" x=\"354.771197\" xlink:href=\"#m025067ee00\" y=\"148.78962\"/>\n     <use style=\"fill:#1f77b4;stroke:#1f77b4;\" x=\"251.975919\" xlink:href=\"#m025067ee00\" y=\"149.549675\"/>\n     <use style=\"fill:#1f77b4;stroke:#1f77b4;\" x=\"125.3865\" xlink:href=\"#m025067ee00\" y=\"90.53528\"/>\n     <use style=\"fill:#1f77b4;stroke:#1f77b4;\" x=\"119.335165\" xlink:href=\"#m025067ee00\" y=\"82.129215\"/>\n     <use style=\"fill:#1f77b4;stroke:#1f77b4;\" x=\"280.036889\" xlink:href=\"#m025067ee00\" y=\"175.694041\"/>\n     <use style=\"fill:#1f77b4;stroke:#1f77b4;\" x=\"334.947846\" xlink:href=\"#m025067ee00\" y=\"152.568628\"/>\n     <use style=\"fill:#1f77b4;stroke:#1f77b4;\" x=\"318.763875\" xlink:href=\"#m025067ee00\" y=\"209.938556\"/>\n     <use style=\"fill:#1f77b4;stroke:#1f77b4;\" x=\"285.953191\" xlink:href=\"#m025067ee00\" y=\"172.258171\"/>\n     <use style=\"fill:#1f77b4;stroke:#1f77b4;\" x=\"252.989185\" xlink:href=\"#m025067ee00\" y=\"140.493197\"/>\n     <use style=\"fill:#1f77b4;stroke:#1f77b4;\" x=\"237.024807\" xlink:href=\"#m025067ee00\" y=\"139.007496\"/>\n     <use style=\"fill:#1f77b4;stroke:#1f77b4;\" x=\"343.764031\" xlink:href=\"#m025067ee00\" y=\"146.567436\"/>\n     <use style=\"fill:#1f77b4;stroke:#1f77b4;\" x=\"310.15934\" xlink:href=\"#m025067ee00\" y=\"174.643066\"/>\n     <use style=\"fill:#1f77b4;stroke:#1f77b4;\" x=\"208.703944\" xlink:href=\"#m025067ee00\" y=\"64.182223\"/>\n     <use style=\"fill:#1f77b4;stroke:#1f77b4;\" x=\"188.000052\" xlink:href=\"#m025067ee00\" y=\"53.918466\"/>\n     <use style=\"fill:#1f77b4;stroke:#1f77b4;\" x=\"274.820588\" xlink:href=\"#m025067ee00\" y=\"189.497794\"/>\n     <use style=\"fill:#1f77b4;stroke:#1f77b4;\" x=\"192.045746\" xlink:href=\"#m025067ee00\" y=\"77.011163\"/>\n     <use style=\"fill:#1f77b4;stroke:#1f77b4;\" x=\"320.590568\" xlink:href=\"#m025067ee00\" y=\"177.967474\"/>\n     <use style=\"fill:#1f77b4;stroke:#1f77b4;\" x=\"58.947393\" xlink:href=\"#m025067ee00\" y=\"90.909052\"/>\n     <use style=\"fill:#1f77b4;stroke:#1f77b4;\" x=\"144.108617\" xlink:href=\"#m025067ee00\" y=\"64.057786\"/>\n     <use style=\"fill:#1f77b4;stroke:#1f77b4;\" x=\"337.054415\" xlink:href=\"#m025067ee00\" y=\"155.183363\"/>\n     <use style=\"fill:#1f77b4;stroke:#1f77b4;\" x=\"236.602759\" xlink:href=\"#m025067ee00\" y=\"123.810408\"/>\n     <use style=\"fill:#1f77b4;stroke:#1f77b4;\" x=\"106.629348\" xlink:href=\"#m025067ee00\" y=\"69.044974\"/>\n     <use style=\"fill:#1f77b4;stroke:#1f77b4;\" x=\"275.525354\" xlink:href=\"#m025067ee00\" y=\"165.472387\"/>\n     <use style=\"fill:#1f77b4;stroke:#1f77b4;\" x=\"76.668109\" xlink:href=\"#m025067ee00\" y=\"60.616552\"/>\n     <use style=\"fill:#1f77b4;stroke:#1f77b4;\" x=\"53.700994\" xlink:href=\"#m025067ee00\" y=\"118.178176\"/>\n     <use style=\"fill:#1f77b4;stroke:#1f77b4;\" x=\"305.081982\" xlink:href=\"#m025067ee00\" y=\"214.756364\"/>\n     <use style=\"fill:#1f77b4;stroke:#1f77b4;\" x=\"308.051048\" xlink:href=\"#m025067ee00\" y=\"187.593716\"/>\n    </g>\n   </g>\n   <g id=\"matplotlib.axis_1\">\n    <g id=\"xtick_1\">\n     <g id=\"line2d_1\">\n      <defs>\n       <path d=\"M 0 0 \nL 0 3.5 \n\" id=\"m5d06643375\" style=\"stroke:#000000;stroke-width:0.8;\"/>\n      </defs>\n      <g>\n       <use style=\"stroke:#000000;stroke-width:0.8;\" x=\"52.238163\" xlink:href=\"#m5d06643375\" y=\"224.64\"/>\n      </g>\n     </g>\n     <g id=\"text_1\">\n      <!-- −1.00 -->\n      <defs>\n       <path d=\"M 10.59375 35.5 \nL 73.1875 35.5 \nL 73.1875 27.203125 \nL 10.59375 27.203125 \nz\n\" id=\"DejaVuSans-8722\"/>\n       <path d=\"M 12.40625 8.296875 \nL 28.515625 8.296875 \nL 28.515625 63.921875 \nL 10.984375 60.40625 \nL 10.984375 69.390625 \nL 28.421875 72.90625 \nL 38.28125 72.90625 \nL 38.28125 8.296875 \nL 54.390625 8.296875 \nL 54.390625 0 \nL 12.40625 0 \nz\n\" id=\"DejaVuSans-49\"/>\n       <path d=\"M 10.6875 12.40625 \nL 21 12.40625 \nL 21 0 \nL 10.6875 0 \nz\n\" id=\"DejaVuSans-46\"/>\n       <path d=\"M 31.78125 66.40625 \nQ 24.171875 66.40625 20.328125 58.90625 \nQ 16.5 51.421875 16.5 36.375 \nQ 16.5 21.390625 20.328125 13.890625 \nQ 24.171875 6.390625 31.78125 6.390625 \nQ 39.453125 6.390625 43.28125 13.890625 \nQ 47.125 21.390625 47.125 36.375 \nQ 47.125 51.421875 43.28125 58.90625 \nQ 39.453125 66.40625 31.78125 66.40625 \nz\nM 31.78125 74.21875 \nQ 44.046875 74.21875 50.515625 64.515625 \nQ 56.984375 54.828125 56.984375 36.375 \nQ 56.984375 17.96875 50.515625 8.265625 \nQ 44.046875 -1.421875 31.78125 -1.421875 \nQ 19.53125 -1.421875 13.0625 8.265625 \nQ 6.59375 17.96875 6.59375 36.375 \nQ 6.59375 54.828125 13.0625 64.515625 \nQ 19.53125 74.21875 31.78125 74.21875 \nz\n\" id=\"DejaVuSans-48\"/>\n      </defs>\n      <g transform=\"translate(36.915507 239.238437)scale(0.1 -0.1)\">\n       <use xlink:href=\"#DejaVuSans-8722\"/>\n       <use x=\"83.789062\" xlink:href=\"#DejaVuSans-49\"/>\n       <use x=\"147.412109\" xlink:href=\"#DejaVuSans-46\"/>\n       <use x=\"179.199219\" xlink:href=\"#DejaVuSans-48\"/>\n       <use x=\"242.822266\" xlink:href=\"#DejaVuSans-48\"/>\n      </g>\n     </g>\n    </g>\n    <g id=\"xtick_2\">\n     <g id=\"line2d_2\">\n      <g>\n       <use style=\"stroke:#000000;stroke-width:0.8;\" x=\"90.477698\" xlink:href=\"#m5d06643375\" y=\"224.64\"/>\n      </g>\n     </g>\n     <g id=\"text_2\">\n      <!-- −0.75 -->\n      <defs>\n       <path d=\"M 8.203125 72.90625 \nL 55.078125 72.90625 \nL 55.078125 68.703125 \nL 28.609375 0 \nL 18.3125 0 \nL 43.21875 64.59375 \nL 8.203125 64.59375 \nz\n\" id=\"DejaVuSans-55\"/>\n       <path d=\"M 10.796875 72.90625 \nL 49.515625 72.90625 \nL 49.515625 64.59375 \nL 19.828125 64.59375 \nL 19.828125 46.734375 \nQ 21.96875 47.46875 24.109375 47.828125 \nQ 26.265625 48.1875 28.421875 48.1875 \nQ 40.625 48.1875 47.75 41.5 \nQ 54.890625 34.8125 54.890625 23.390625 \nQ 54.890625 11.625 47.5625 5.09375 \nQ 40.234375 -1.421875 26.90625 -1.421875 \nQ 22.3125 -1.421875 17.546875 -0.640625 \nQ 12.796875 0.140625 7.71875 1.703125 \nL 7.71875 11.625 \nQ 12.109375 9.234375 16.796875 8.0625 \nQ 21.484375 6.890625 26.703125 6.890625 \nQ 35.15625 6.890625 40.078125 11.328125 \nQ 45.015625 15.765625 45.015625 23.390625 \nQ 45.015625 31 40.078125 35.4375 \nQ 35.15625 39.890625 26.703125 39.890625 \nQ 22.75 39.890625 18.8125 39.015625 \nQ 14.890625 38.140625 10.796875 36.28125 \nz\n\" id=\"DejaVuSans-53\"/>\n      </defs>\n      <g transform=\"translate(75.155042 239.238437)scale(0.1 -0.1)\">\n       <use xlink:href=\"#DejaVuSans-8722\"/>\n       <use x=\"83.789062\" xlink:href=\"#DejaVuSans-48\"/>\n       <use x=\"147.412109\" xlink:href=\"#DejaVuSans-46\"/>\n       <use x=\"179.199219\" xlink:href=\"#DejaVuSans-55\"/>\n       <use x=\"242.822266\" xlink:href=\"#DejaVuSans-53\"/>\n      </g>\n     </g>\n    </g>\n    <g id=\"xtick_3\">\n     <g id=\"line2d_3\">\n      <g>\n       <use style=\"stroke:#000000;stroke-width:0.8;\" x=\"128.717232\" xlink:href=\"#m5d06643375\" y=\"224.64\"/>\n      </g>\n     </g>\n     <g id=\"text_3\">\n      <!-- −0.50 -->\n      <g transform=\"translate(113.394576 239.238437)scale(0.1 -0.1)\">\n       <use xlink:href=\"#DejaVuSans-8722\"/>\n       <use x=\"83.789062\" xlink:href=\"#DejaVuSans-48\"/>\n       <use x=\"147.412109\" xlink:href=\"#DejaVuSans-46\"/>\n       <use x=\"179.199219\" xlink:href=\"#DejaVuSans-53\"/>\n       <use x=\"242.822266\" xlink:href=\"#DejaVuSans-48\"/>\n      </g>\n     </g>\n    </g>\n    <g id=\"xtick_4\">\n     <g id=\"line2d_4\">\n      <g>\n       <use style=\"stroke:#000000;stroke-width:0.8;\" x=\"166.956767\" xlink:href=\"#m5d06643375\" y=\"224.64\"/>\n      </g>\n     </g>\n     <g id=\"text_4\">\n      <!-- −0.25 -->\n      <defs>\n       <path d=\"M 19.1875 8.296875 \nL 53.609375 8.296875 \nL 53.609375 0 \nL 7.328125 0 \nL 7.328125 8.296875 \nQ 12.9375 14.109375 22.625 23.890625 \nQ 32.328125 33.6875 34.8125 36.53125 \nQ 39.546875 41.84375 41.421875 45.53125 \nQ 43.3125 49.21875 43.3125 52.78125 \nQ 43.3125 58.59375 39.234375 62.25 \nQ 35.15625 65.921875 28.609375 65.921875 \nQ 23.96875 65.921875 18.8125 64.3125 \nQ 13.671875 62.703125 7.8125 59.421875 \nL 7.8125 69.390625 \nQ 13.765625 71.78125 18.9375 73 \nQ 24.125 74.21875 28.421875 74.21875 \nQ 39.75 74.21875 46.484375 68.546875 \nQ 53.21875 62.890625 53.21875 53.421875 \nQ 53.21875 48.921875 51.53125 44.890625 \nQ 49.859375 40.875 45.40625 35.40625 \nQ 44.1875 33.984375 37.640625 27.21875 \nQ 31.109375 20.453125 19.1875 8.296875 \nz\n\" id=\"DejaVuSans-50\"/>\n      </defs>\n      <g transform=\"translate(151.634111 239.238437)scale(0.1 -0.1)\">\n       <use xlink:href=\"#DejaVuSans-8722\"/>\n       <use x=\"83.789062\" xlink:href=\"#DejaVuSans-48\"/>\n       <use x=\"147.412109\" xlink:href=\"#DejaVuSans-46\"/>\n       <use x=\"179.199219\" xlink:href=\"#DejaVuSans-50\"/>\n       <use x=\"242.822266\" xlink:href=\"#DejaVuSans-53\"/>\n      </g>\n     </g>\n    </g>\n    <g id=\"xtick_5\">\n     <g id=\"line2d_5\">\n      <g>\n       <use style=\"stroke:#000000;stroke-width:0.8;\" x=\"205.196301\" xlink:href=\"#m5d06643375\" y=\"224.64\"/>\n      </g>\n     </g>\n     <g id=\"text_5\">\n      <!-- 0.00 -->\n      <g transform=\"translate(194.063489 239.238437)scale(0.1 -0.1)\">\n       <use xlink:href=\"#DejaVuSans-48\"/>\n       <use x=\"63.623047\" xlink:href=\"#DejaVuSans-46\"/>\n       <use x=\"95.410156\" xlink:href=\"#DejaVuSans-48\"/>\n       <use x=\"159.033203\" xlink:href=\"#DejaVuSans-48\"/>\n      </g>\n     </g>\n    </g>\n    <g id=\"xtick_6\">\n     <g id=\"line2d_6\">\n      <g>\n       <use style=\"stroke:#000000;stroke-width:0.8;\" x=\"243.435836\" xlink:href=\"#m5d06643375\" y=\"224.64\"/>\n      </g>\n     </g>\n     <g id=\"text_6\">\n      <!-- 0.25 -->\n      <g transform=\"translate(232.303023 239.238437)scale(0.1 -0.1)\">\n       <use xlink:href=\"#DejaVuSans-48\"/>\n       <use x=\"63.623047\" xlink:href=\"#DejaVuSans-46\"/>\n       <use x=\"95.410156\" xlink:href=\"#DejaVuSans-50\"/>\n       <use x=\"159.033203\" xlink:href=\"#DejaVuSans-53\"/>\n      </g>\n     </g>\n    </g>\n    <g id=\"xtick_7\">\n     <g id=\"line2d_7\">\n      <g>\n       <use style=\"stroke:#000000;stroke-width:0.8;\" x=\"281.675371\" xlink:href=\"#m5d06643375\" y=\"224.64\"/>\n      </g>\n     </g>\n     <g id=\"text_7\">\n      <!-- 0.50 -->\n      <g transform=\"translate(270.542558 239.238437)scale(0.1 -0.1)\">\n       <use xlink:href=\"#DejaVuSans-48\"/>\n       <use x=\"63.623047\" xlink:href=\"#DejaVuSans-46\"/>\n       <use x=\"95.410156\" xlink:href=\"#DejaVuSans-53\"/>\n       <use x=\"159.033203\" xlink:href=\"#DejaVuSans-48\"/>\n      </g>\n     </g>\n    </g>\n    <g id=\"xtick_8\">\n     <g id=\"line2d_8\">\n      <g>\n       <use style=\"stroke:#000000;stroke-width:0.8;\" x=\"319.914905\" xlink:href=\"#m5d06643375\" y=\"224.64\"/>\n      </g>\n     </g>\n     <g id=\"text_8\">\n      <!-- 0.75 -->\n      <g transform=\"translate(308.782093 239.238437)scale(0.1 -0.1)\">\n       <use xlink:href=\"#DejaVuSans-48\"/>\n       <use x=\"63.623047\" xlink:href=\"#DejaVuSans-46\"/>\n       <use x=\"95.410156\" xlink:href=\"#DejaVuSans-55\"/>\n       <use x=\"159.033203\" xlink:href=\"#DejaVuSans-53\"/>\n      </g>\n     </g>\n    </g>\n    <g id=\"xtick_9\">\n     <g id=\"line2d_9\">\n      <g>\n       <use style=\"stroke:#000000;stroke-width:0.8;\" x=\"358.15444\" xlink:href=\"#m5d06643375\" y=\"224.64\"/>\n      </g>\n     </g>\n     <g id=\"text_9\">\n      <!-- 1.00 -->\n      <g transform=\"translate(347.021627 239.238437)scale(0.1 -0.1)\">\n       <use xlink:href=\"#DejaVuSans-49\"/>\n       <use x=\"63.623047\" xlink:href=\"#DejaVuSans-46\"/>\n       <use x=\"95.410156\" xlink:href=\"#DejaVuSans-48\"/>\n       <use x=\"159.033203\" xlink:href=\"#DejaVuSans-48\"/>\n      </g>\n     </g>\n    </g>\n   </g>\n   <g id=\"matplotlib.axis_2\">\n    <g id=\"ytick_1\">\n     <g id=\"line2d_10\">\n      <defs>\n       <path d=\"M 0 0 \nL -3.5 0 \n\" id=\"m29ba1effa8\" style=\"stroke:#000000;stroke-width:0.8;\"/>\n      </defs>\n      <g>\n       <use style=\"stroke:#000000;stroke-width:0.8;\" x=\"38.482813\" xlink:href=\"#m29ba1effa8\" y=\"195.456578\"/>\n      </g>\n     </g>\n     <g id=\"text_10\">\n      <!-- −0.4 -->\n      <defs>\n       <path d=\"M 37.796875 64.3125 \nL 12.890625 25.390625 \nL 37.796875 25.390625 \nz\nM 35.203125 72.90625 \nL 47.609375 72.90625 \nL 47.609375 25.390625 \nL 58.015625 25.390625 \nL 58.015625 17.1875 \nL 47.609375 17.1875 \nL 47.609375 0 \nL 37.796875 0 \nL 37.796875 17.1875 \nL 4.890625 17.1875 \nL 4.890625 26.703125 \nz\n\" id=\"DejaVuSans-52\"/>\n      </defs>\n      <g transform=\"translate(7.2 199.255797)scale(0.1 -0.1)\">\n       <use xlink:href=\"#DejaVuSans-8722\"/>\n       <use x=\"83.789062\" xlink:href=\"#DejaVuSans-48\"/>\n       <use x=\"147.412109\" xlink:href=\"#DejaVuSans-46\"/>\n       <use x=\"179.199219\" xlink:href=\"#DejaVuSans-52\"/>\n      </g>\n     </g>\n    </g>\n    <g id=\"ytick_2\">\n     <g id=\"line2d_11\">\n      <g>\n       <use style=\"stroke:#000000;stroke-width:0.8;\" x=\"38.482813\" xlink:href=\"#m29ba1effa8\" y=\"161.480472\"/>\n      </g>\n     </g>\n     <g id=\"text_11\">\n      <!-- −0.2 -->\n      <g transform=\"translate(7.2 165.279691)scale(0.1 -0.1)\">\n       <use xlink:href=\"#DejaVuSans-8722\"/>\n       <use x=\"83.789062\" xlink:href=\"#DejaVuSans-48\"/>\n       <use x=\"147.412109\" xlink:href=\"#DejaVuSans-46\"/>\n       <use x=\"179.199219\" xlink:href=\"#DejaVuSans-50\"/>\n      </g>\n     </g>\n    </g>\n    <g id=\"ytick_3\">\n     <g id=\"line2d_12\">\n      <g>\n       <use style=\"stroke:#000000;stroke-width:0.8;\" x=\"38.482813\" xlink:href=\"#m29ba1effa8\" y=\"127.504366\"/>\n      </g>\n     </g>\n     <g id=\"text_12\">\n      <!-- 0.0 -->\n      <g transform=\"translate(15.579688 131.303585)scale(0.1 -0.1)\">\n       <use xlink:href=\"#DejaVuSans-48\"/>\n       <use x=\"63.623047\" xlink:href=\"#DejaVuSans-46\"/>\n       <use x=\"95.410156\" xlink:href=\"#DejaVuSans-48\"/>\n      </g>\n     </g>\n    </g>\n    <g id=\"ytick_4\">\n     <g id=\"line2d_13\">\n      <g>\n       <use style=\"stroke:#000000;stroke-width:0.8;\" x=\"38.482813\" xlink:href=\"#m29ba1effa8\" y=\"93.52826\"/>\n      </g>\n     </g>\n     <g id=\"text_13\">\n      <!-- 0.2 -->\n      <g transform=\"translate(15.579688 97.327478)scale(0.1 -0.1)\">\n       <use xlink:href=\"#DejaVuSans-48\"/>\n       <use x=\"63.623047\" xlink:href=\"#DejaVuSans-46\"/>\n       <use x=\"95.410156\" xlink:href=\"#DejaVuSans-50\"/>\n      </g>\n     </g>\n    </g>\n    <g id=\"ytick_5\">\n     <g id=\"line2d_14\">\n      <g>\n       <use style=\"stroke:#000000;stroke-width:0.8;\" x=\"38.482813\" xlink:href=\"#m29ba1effa8\" y=\"59.552154\"/>\n      </g>\n     </g>\n     <g id=\"text_14\">\n      <!-- 0.4 -->\n      <g transform=\"translate(15.579688 63.351372)scale(0.1 -0.1)\">\n       <use xlink:href=\"#DejaVuSans-48\"/>\n       <use x=\"63.623047\" xlink:href=\"#DejaVuSans-46\"/>\n       <use x=\"95.410156\" xlink:href=\"#DejaVuSans-52\"/>\n      </g>\n     </g>\n    </g>\n    <g id=\"ytick_6\">\n     <g id=\"line2d_15\">\n      <g>\n       <use style=\"stroke:#000000;stroke-width:0.8;\" x=\"38.482813\" xlink:href=\"#m29ba1effa8\" y=\"25.576047\"/>\n      </g>\n     </g>\n     <g id=\"text_15\">\n      <!-- 0.6 -->\n      <defs>\n       <path d=\"M 33.015625 40.375 \nQ 26.375 40.375 22.484375 35.828125 \nQ 18.609375 31.296875 18.609375 23.390625 \nQ 18.609375 15.53125 22.484375 10.953125 \nQ 26.375 6.390625 33.015625 6.390625 \nQ 39.65625 6.390625 43.53125 10.953125 \nQ 47.40625 15.53125 47.40625 23.390625 \nQ 47.40625 31.296875 43.53125 35.828125 \nQ 39.65625 40.375 33.015625 40.375 \nz\nM 52.59375 71.296875 \nL 52.59375 62.3125 \nQ 48.875 64.0625 45.09375 64.984375 \nQ 41.3125 65.921875 37.59375 65.921875 \nQ 27.828125 65.921875 22.671875 59.328125 \nQ 17.53125 52.734375 16.796875 39.40625 \nQ 19.671875 43.65625 24.015625 45.921875 \nQ 28.375 48.1875 33.59375 48.1875 \nQ 44.578125 48.1875 50.953125 41.515625 \nQ 57.328125 34.859375 57.328125 23.390625 \nQ 57.328125 12.15625 50.6875 5.359375 \nQ 44.046875 -1.421875 33.015625 -1.421875 \nQ 20.359375 -1.421875 13.671875 8.265625 \nQ 6.984375 17.96875 6.984375 36.375 \nQ 6.984375 53.65625 15.1875 63.9375 \nQ 23.390625 74.21875 37.203125 74.21875 \nQ 40.921875 74.21875 44.703125 73.484375 \nQ 48.484375 72.75 52.59375 71.296875 \nz\n\" id=\"DejaVuSans-54\"/>\n      </defs>\n      <g transform=\"translate(15.579688 29.375266)scale(0.1 -0.1)\">\n       <use xlink:href=\"#DejaVuSans-48\"/>\n       <use x=\"63.623047\" xlink:href=\"#DejaVuSans-46\"/>\n       <use x=\"95.410156\" xlink:href=\"#DejaVuSans-54\"/>\n      </g>\n     </g>\n    </g>\n   </g>\n   <g id=\"patch_3\">\n    <path d=\"M 38.482813 224.64 \nL 38.482813 7.2 \n\" style=\"fill:none;stroke:#000000;stroke-linecap:square;stroke-linejoin:miter;stroke-width:0.8;\"/>\n   </g>\n   <g id=\"patch_4\">\n    <path d=\"M 373.282813 224.64 \nL 373.282813 7.2 \n\" style=\"fill:none;stroke:#000000;stroke-linecap:square;stroke-linejoin:miter;stroke-width:0.8;\"/>\n   </g>\n   <g id=\"patch_5\">\n    <path d=\"M 38.482812 224.64 \nL 373.282812 224.64 \n\" style=\"fill:none;stroke:#000000;stroke-linecap:square;stroke-linejoin:miter;stroke-width:0.8;\"/>\n   </g>\n   <g id=\"patch_6\">\n    <path d=\"M 38.482812 7.2 \nL 373.282812 7.2 \n\" style=\"fill:none;stroke:#000000;stroke-linecap:square;stroke-linejoin:miter;stroke-width:0.8;\"/>\n   </g>\n  </g>\n </g>\n <defs>\n  <clipPath id=\"p4037bf5a2f\">\n   <rect height=\"217.44\" width=\"334.8\" x=\"38.482813\" y=\"7.2\"/>\n  </clipPath>\n </defs>\n</svg>\n",
      "image/png": "[encoded data removed]"
     },
     "metadata": {
      "needs_background": "light"
     }
    }
   ],
   "source": [
    "plt.ion()\n",
    "#Generate training data in the interval [-1,1]\n",
    "m = 100\n",
    "x = -1 + 2*np.random.random(m)\n",
    "y = np.power(x,3) - x + 0.4 / (1 + 25*np.power(x,2)) + 0.10*np.random.normal(size = m)\n",
    "plt.scatter(x,y)\n",
    "plt.show()"
   ]
  },
  {
   "cell_type": "markdown",
   "metadata": {},
   "source": [
    "Now, you should define a polynomial fitting solver that uses vandermonde() function and solve_linear_equation() function.\n"
   ]
  },
  {
   "cell_type": "code",
   "execution_count": 11,
   "metadata": {},
   "outputs": [
    {
     "output_type": "error",
     "ename": "SyntaxError",
     "evalue": "invalid syntax (<ipython-input-11-d8620d55998a>, line 10)",
     "traceback": [
      "\u001b[0;36m  File \u001b[0;32m\"<ipython-input-11-d8620d55998a>\"\u001b[0;36m, line \u001b[0;32m10\u001b[0m\n\u001b[0;31m    A = # TODO: Problem#3, fill in here.\u001b[0m\n\u001b[0m                                        ^\u001b[0m\n\u001b[0;31mSyntaxError\u001b[0m\u001b[0;31m:\u001b[0m invalid syntax\n"
     ]
    }
   ],
   "source": [
    "# TODO: Problem#3, fill in here.\n",
    "def solve_polynomial_fitting(x, y, degree):\n",
    "    \"\"\"\n",
    "    in: x - numpy array of data points.\n",
    "        y - numpy array of scalar function values.\n",
    "        degree - degree of polynomial.\n",
    "    out: theta tha satisfies A(theta)=y\n",
    "    \"\"\"\n",
    "    # generate the vandermonde matrix\n",
    "    A = # TODO: Problem#3, fill in here.\n",
    "    print(\"shape of vandermonde of degree %d and %d data points:\" % (degree, len(x)), A.shape)\n",
    "    # we have A and b(=y), solve linear equation.\n",
    "    theta = # TODO: Problem#3, fill in here.\n",
    "    # return fitted parameters.\n",
    "    return theta\n",
    "\n",
    "\n",
    "# check the fitting by plotting\n",
    "theta3 = solve_polynomial_fitting(x, y, degree=3)\n",
    "print(\"shape of 3rd polynomial parameter:\", theta3.shape)\n",
    "\n",
    "theta7 = solve_polynomial_fitting(x, y, degree=7)\n",
    "print(\"shape of 7th polynomial parameter:\", theta7.shape)\n",
    "\n",
    "theta11 = solve_polynomial_fitting(x, y, degree=11)\n",
    "print(\"shape of 11th polynomial parameter:\", theta11.shape)\n",
    "\n",
    "theta16 = solve_polynomial_fitting(x, y, degree=16)\n",
    "print(\"shape of 16th polynomial parameter:\", theta16.shape)\n"
   ]
  },
  {
   "cell_type": "code",
   "execution_count": 12,
   "metadata": {},
   "outputs": [
    {
     "output_type": "error",
     "ename": "SyntaxError",
     "evalue": "invalid syntax (<ipython-input-12-e14e2b424f46>, line 5)",
     "traceback": [
      "\u001b[0;36m  File \u001b[0;32m\"<ipython-input-12-e14e2b424f46>\"\u001b[0;36m, line \u001b[0;32m5\u001b[0m\n\u001b[0;31m    A = # TODO: Problem#3, fill in here.\u001b[0m\n\u001b[0m                                        ^\u001b[0m\n\u001b[0;31mSyntaxError\u001b[0m\u001b[0;31m:\u001b[0m invalid syntax\n"
     ]
    }
   ],
   "source": [
    "# TODO: Problem#3, fill in here.\n",
    "def evaluate_polynomial_fitting(x, params):\n",
    "    # each data point x is multiplied by a set of parameters.\n",
    "    # generate vadermonde matrix of shape [N, p] (N - # of data points, p -degree of polynomials)\n",
    "    A = # TODO: Problem#3, fill in here.\n",
    "    # evaluate the function @ N data points \n",
    "    y = # TODO: Problem#3, fill in here.  # [N, p] * [p, ] -> [N,]\n",
    "    # return the evaluted value.\n",
    "    return y\n",
    "\n",
    "# plot \n",
    "x_plot = np.linspace(-1, 1, num = m)\n",
    "fig = plt.figure()\n",
    "plt.ylim(-1.0, 1.0)\n",
    "\n",
    "plt.subplot(2, 2, 1)\n",
    "plt.scatter(x, y)\n",
    "plt.plot(x_plot, evaluate_polynomial_fitting(x_plot, theta3),'r')\n",
    "plt.title('3rd polynomial')\n",
    "\n",
    "plt.subplot(2, 2, 2)\n",
    "plt.scatter(x, y)\n",
    "plt.plot(x_plot, evaluate_polynomial_fitting(x_plot, theta7),'r')\n",
    "plt.title('7th polynomial')\n",
    "\n",
    "plt.subplot(2, 2, 3)\n",
    "plt.scatter(x, y)\n",
    "plt.plot(x_plot, evaluate_polynomial_fitting(x_plot, theta11),'r')\n",
    "plt.title('11th polynomial')\n",
    "\n",
    "\n",
    "plt.subplot(2, 2, 4)\n",
    "plt.scatter(x, y)\n",
    "plt.plot(x_plot, evaluate_polynomial_fitting(x_plot, theta16),'r')\n",
    "plt.title('16th polynomial')\n",
    "\n",
    "plt.tight_layout()\n",
    "plt.show()\n"
   ]
  },
  {
   "cell_type": "markdown",
   "metadata": {},
   "source": [
    "## Problem 4) $k$-fold cross validaton (0.1 point)\n",
    "\n",
    "Cross-validaton measure the generalization ability of a model, to choose a basis function used to construct a model.\n",
    "The logic is\n",
    "\n",
    "1. divide the dataset into $k$ folds.\n",
    "2. fit the model using $1, ..., k-1$ fold.\n",
    "3. use $k$th fold as the test set.\n",
    "4. repeat this to do $k$ different evaluations.\n",
    "5. for each RMS error $\\epsilon_1, \\cdots, \\epsilon_k$, take the final error as $\\sqrt{(\\epsilon_1^2 + \\cdots + \\epsilon_k^2)/k}$.\n",
    "\n",
    "we'll apply this method to our simple $7$th polynomial data."
   ]
  },
  {
   "cell_type": "code",
   "execution_count": 13,
   "metadata": {},
   "outputs": [
    {
     "output_type": "error",
     "ename": "SyntaxError",
     "evalue": "invalid syntax (<ipython-input-13-11bf93975f04>, line 5)",
     "traceback": [
      "\u001b[0;36m  File \u001b[0;32m\"<ipython-input-13-11bf93975f04>\"\u001b[0;36m, line \u001b[0;32m5\u001b[0m\n\u001b[0;31m    A = #TODO: Problem#4, fill in here. # 7th polynomial matrix of shape [N, p]\u001b[0m\n\u001b[0m                                                                               ^\u001b[0m\n\u001b[0;31mSyntaxError\u001b[0m\u001b[0;31m:\u001b[0m invalid syntax\n"
     ]
    }
   ],
   "source": [
    "#TODO: Problem#4, fill in here.\n",
    "p = 7 # degree of polynomial\n",
    "K = 3 # number of folds\n",
    "N = len(x) # number of data points\n",
    "A = #TODO: Problem#4, fill in here. # 7th polynomial matrix of shape [N, p]\n",
    "idx_list = np.array_split(np.random.permutation(N), K) # list of data indices for each fold.\n",
    "\n",
    "rms_train = np.zeros(K) # place holder for train rms error\n",
    "rms_test = np.zeros(K) # place holder for test rms error\n",
    "for k in range(K):\n",
    "    ind_test = idx_list[k] # indices for test data points of kth fold\n",
    "    # indices for train data points except kth fold. please refer to: https://numpy.org/doc/stable/reference/generated/numpy.delete.html\n",
    "    ind_train = #TODO: Problem#4, fill in here. \n",
    "    theta = #TODO: Problem#4, fill in here.  # compute parameters of 7th polynomial from train set.\n",
    "    rms_train[k] = (np.sum((A[ind_train] @ #TODO: Problem#4, fill in here. - y[ind_train])**2) / N)**0.5 # compute rms for train set.\n",
    "    rms_test[k] = (np.sum((A[ind_test] @ #TODO: Problem#4, fill in here. - y[ind_test])**2) / N)**0.5 # compute rms for test set.\n",
    "\n",
    "rms_data = np.column_stack((np.arange(K, dtype=np.int64), rms_train, rms_test)) # create array for visualization.\n",
    "fig, ax = plt.subplots()\n",
    "# Hide axes\n",
    "ax.xaxis.set_visible(False) \n",
    "ax.yaxis.set_visible(False)\n",
    "\n",
    "rms_label = (\"fold\",\"train_rms\", \"test_rms\")\n",
    "# draw rms (train/ test) for each fold.\n",
    "ax.table(cellText=rms_data, colLabels=rms_label, loc='center')\n",
    "\n"
   ]
  },
  {
   "cell_type": "code",
   "execution_count": null,
   "metadata": {},
   "outputs": [],
   "source": []
  },
  {
   "cell_type": "code",
   "execution_count": null,
   "metadata": {},
   "outputs": [],
   "source": []
  }
 ],
 "metadata": {
  "kernelspec": {
   "display_name": "Python 3",
   "language": "python",
   "name": "python3"
  },
  "language_info": {
   "codemirror_mode": {
    "name": "ipython",
    "version": 3
   },
   "file_extension": ".py",
   "mimetype": "text/x-python",
   "name": "python",
   "nbconvert_exporter": "python",
   "pygments_lexer": "ipython3",
   "version": "3.6.9-final"
  }
 },
 "nbformat": 4,
 "nbformat_minor": 4
}