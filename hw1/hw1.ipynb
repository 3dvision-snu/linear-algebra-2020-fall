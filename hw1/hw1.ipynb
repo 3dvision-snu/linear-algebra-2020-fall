{
 "cells": [
  {
   "cell_type": "code",
   "execution_count": 1,
   "metadata": {},
   "outputs": [
    {
     "name": "stdout",
     "output_type": "stream",
     "text": [
      "I love linear algebra\n"
     ]
    }
   ],
   "source": [
    "#### Problem 1 ####\n",
    "import numpy as np\n",
    "%matplotlib inline\n",
    "from matplotlib import pyplot as plt\n",
    "print('I love linear algebra')"
   ]
  },
  {
   "cell_type": "code",
   "execution_count": 2,
   "metadata": {},
   "outputs": [],
   "source": [
    "#### Problem 2 ####\n",
    "v = np.array([1., 1.])\n",
    "w = np.array([0., 2.])\n",
    "data = []\n",
    "num_points = 10000\n"
   ]
  },
  {
   "cell_type": "code",
   "execution_count": 3,
   "metadata": {},
   "outputs": [],
   "source": [
    "#### Problem 3 ####\n",
    "v = np.arange(3)\n",
    "ws = np.array([\n",
    "    [0., 0., 1.],\n",
    "    [-1., 2., 2.],\n",
    "    [3, 5., 3.],\n",
    "    [4., 4., -3.]\n",
    "])\n"
   ]
  },
  {
   "cell_type": "code",
   "execution_count": 4,
   "metadata": {},
   "outputs": [],
   "source": [
    "#### Problem 4 ####\n",
    "num_years = 10\n",
    "interest_rate = 0.1\n",
    "income = np.ones(num_years)\n",
    "interest_rates = []\n"
   ]
  },
  {
   "cell_type": "code",
   "execution_count": 5,
   "metadata": {},
   "outputs": [],
   "source": [
    "#### Problem 5 ####\n",
    "num_experiments = 10000\n",
    "num_samples = 100\n",
    "num_bins = 100\n",
    "samples = np.random.random((num_experiments, num_samples, 2))\n"
   ]
  }
 ],
 "metadata": {
  "kernelspec": {
   "display_name": "Python 3",
   "language": "python",
   "name": "python3"
  },
  "language_info": {
   "codemirror_mode": {
    "name": "ipython",
    "version": 3
   },
   "file_extension": ".py",
   "mimetype": "text/x-python",
   "name": "python",
   "nbconvert_exporter": "python",
   "pygments_lexer": "ipython3",
   "version": "3.7.3"
  }
 },
 "nbformat": 4,
 "nbformat_minor": 2
}
