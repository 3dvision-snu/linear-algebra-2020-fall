{
 "cells": [
  {
   "cell_type": "code",
   "execution_count": 1,
   "metadata": {},
   "outputs": [
    {
     "name": "stdout",
     "output_type": "stream",
     "text": [
      "I love linear algebra\n"
     ]
    }
   ],
   "source": [
    "#### Problem 1 ####\n",
    "import numpy as np\n",
    "%matplotlib inline\n",
    "from matplotlib import pyplot as plt\n",
    "print('I love linear algebra')"
   ]
  },
  {
   "cell_type": "code",
   "execution_count": 2,
   "metadata": {},
   "outputs": [
    {
     "data": {
      "image/png": "[encoded data removed]",
      "text/plain": [
       "<Figure size 432x288 with 1 Axes>"
      ]
     },
     "metadata": {
      "needs_background": "light"
     },
     "output_type": "display_data"
    }
   ],
   "source": [
    "#### Problem 2 ####\n",
    "v = np.array([1., 1.])\n",
    "w = np.array([0., 2.])\n",
    "data = []\n",
    "num_points = 10000\n",
    "\n",
    "for c1 in range(0, num_points):\n",
    "    c1 = c1 / num_points\n",
    "    c2 = 1 - c1\n",
    "    data.append(c1 * v + c2 * w)\n",
    "data = np.array(data)\n",
    "x, y = data.T\n",
    "plt.scatter(x, y)\n",
    "plt.show()"
   ]
  },
  {
   "cell_type": "code",
   "execution_count": 3,
   "metadata": {},
   "outputs": [
    {
     "name": "stdout",
     "output_type": "stream",
     "text": [
      "[ 0.8660254  0.8660254  0.        -0.8660254]\n"
     ]
    }
   ],
   "source": [
    "#### Problem 3 ####\n",
    "v = np.arange(3) + 1\n",
    "ws = np.array([\n",
    "    [0., 0., 1.],\n",
    "    [-1., 2., 2.],\n",
    "    [3, 5., 3.],\n",
    "    [4., 4., -3.]\n",
    "])\n",
    "v = v - np.mean(v)\n",
    "ws = ws - np.mean(ws, axis=1).reshape(-1, 1)\n",
    "dots = np.dot(ws, v)\n",
    "divisor = np.sqrt(np.sum(v * v)) * np.sqrt(np.sum(ws * ws, axis=1))\n",
    "print(dots / divisor)"
   ]
  },
  {
   "cell_type": "code",
   "execution_count": 4,
   "metadata": {},
   "outputs": [
    {
     "name": "stdout",
     "output_type": "stream",
     "text": [
      "6.759023816275149\n"
     ]
    }
   ],
   "source": [
    "#### Problem 4 ####\n",
    "num_years = 10\n",
    "interest_rate = 0.1\n",
    "income = np.ones(num_years)\n",
    "interest_rates = []\n",
    "\n",
    "for i in range(num_years):\n",
    "    interest_rates.append(1 / (1 + interest_rate) ** i)\n",
    "interest_rates = np.array(interest_rates)\n",
    "net_present_value = np.dot(interest_rates, income)\n",
    "print(net_present_value)"
   ]
  },
  {
   "cell_type": "code",
   "execution_count": 5,
   "metadata": {},
   "outputs": [
    {
     "data": {
      "image/png": "[encoded data removed]",
      "text/plain": [
       "<Figure size 432x288 with 1 Axes>"
      ]
     },
     "metadata": {
      "needs_background": "light"
     },
     "output_type": "display_data"
    },
    {
     "data": {
      "image/png": "[encoded data removed]",
      "text/plain": [
       "<Figure size 432x288 with 1 Axes>"
      ]
     },
     "metadata": {
      "needs_background": "light"
     },
     "output_type": "display_data"
    }
   ],
   "source": [
    "#### Problem 5 ####\n",
    "num_experiments = 10000\n",
    "num_samples = 100\n",
    "num_bins = 100\n",
    "samples = np.random.random((num_experiments, num_samples, 2))\n",
    "\n",
    "samples_mean = np.mean(samples, axis=1)\n",
    "plt.hist(samples_mean[:, 0], bins=num_bins)\n",
    "plt.show()\n",
    "\n",
    "plt.hist(samples_mean[:, 1], bins=num_bins)\n",
    "plt.show()"
   ]
  }
 ],
 "metadata": {
  "kernelspec": {
   "display_name": "Python 3",
   "language": "python",
   "name": "python3"
  },
  "language_info": {
   "codemirror_mode": {
    "name": "ipython",
    "version": 3
   },
   "file_extension": ".py",
   "mimetype": "text/x-python",
   "name": "python",
   "nbconvert_exporter": "python",
   "pygments_lexer": "ipython3",
   "version": "3.7.3"
  }
 },
 "nbformat": 4,
 "nbformat_minor": 2
}
