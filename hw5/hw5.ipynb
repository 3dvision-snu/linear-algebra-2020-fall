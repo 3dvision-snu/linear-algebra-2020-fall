{
 "cells": [
  {
   "cell_type": "code",
   "execution_count": 3,
   "metadata": {},
   "outputs": [],
   "source": [
    "import numpy as np"
   ]
  },
  {
   "cell_type": "code",
   "execution_count": 4,
   "metadata": {},
   "outputs": [],
   "source": [
    "def qr_decompose(A):\n",
    "    # A is n x n matrix\n",
    "    # ------------ TODO -----------------------------\n",
    "    # you may not use numpy.linalg.qr function\n",
    "\n",
    "    # return Q, R\n",
    "    return np.eye(A.shape[0]), np.eye(A.shape[0])"
   ]
  },
  {
   "cell_type": "code",
   "execution_count": 5,
   "metadata": {},
   "outputs": [],
   "source": [
    "def get_elliptic_mat(n):\n",
    "    # get a matrix\n",
    "    A = 2 * np.identity(n)\n",
    "    neg_ones = -np.identity(n - 1)\n",
    "    A[1: n, 0: n - 1] += neg_ones\n",
    "    A[0: n - 1, 1: n] += neg_ones\n",
    "    A = A / ((n + 1) ** 2)\n",
    "    return A\n",
    "\n",
    "def check_qr(Q, R, A):\n",
    "    # check if QR decomposition is done properly\n",
    "    if not np.allclose(Q @ R, A):\n",
    "        print('Q * R is \\n{}\\n, not A'.format(Q @ R))\n",
    "    elif not np.allclose(Q.T @ Q, np.eye(Q.shape[0])):\n",
    "        print('Q is not orthogonal')\n",
    "    elif not np.allclose(R, np.triu(R)):\n",
    "        print('R is not a upper triangular matrix')\n",
    "    else:\n",
    "        print('Correct!!!')\n",
    "        print('Q: {}'.format(Q))\n",
    "        print('R: {}'.format(R))"
   ]
  },
  {
   "cell_type": "code",
   "execution_count": 6,
   "metadata": {},
   "outputs": [
    {
     "name": "stdout",
     "output_type": "stream",
     "text": [
      "Q * R is \n",
      "[[1. 0. 0. 0. 0.]\n",
      " [0. 1. 0. 0. 0.]\n",
      " [0. 0. 1. 0. 0.]\n",
      " [0. 0. 0. 1. 0.]\n",
      " [0. 0. 0. 0. 1.]]\n",
      ", not A\n"
     ]
    }
   ],
   "source": [
    "n = 5\n",
    "A = get_elliptic_mat(n)\n",
    "Q, R = qr_decompose(A)\n",
    "check_qr(Q, R, A)"
   ]
  }
 ],
 "metadata": {
  "kernelspec": {
   "display_name": "Python 3",
   "language": "python",
   "name": "python3"
  },
  "language_info": {
   "codemirror_mode": {
    "name": "ipython",
    "version": 3
   },
   "file_extension": ".py",
   "mimetype": "text/x-python",
   "name": "python",
   "nbconvert_exporter": "python",
   "pygments_lexer": "ipython3",
   "version": "3.8.5"
  }
 },
 "nbformat": 4,
 "nbformat_minor": 4
}
