{
 "cells": [
  {
   "cell_type": "code",
   "execution_count": 2,
   "metadata": {},
   "outputs": [],
   "source": [
    "import numpy as np\n",
    "%matplotlib inline\n",
    "from matplotlib import pyplot as plt"
   ]
  },
  {
   "cell_type": "code",
   "execution_count": 3,
   "metadata": {},
   "outputs": [],
   "source": [
    "# Question 1\n",
    "\n",
    "def create_incidence_matrix(edges):\n",
    "    pass\n",
    "\n",
    "edges = np.array([\n",
    "    [1, 1, 1, 2, 2, 2, 2, 3, 3, 4, 5, 6, 6],\n",
    "    [3, 4, 7, 3, 5, 8, 9, 4, 5, 6, 6, 9, 10]\n",
    "]) - 1 # since computer uses 0 as first index\n",
    "\n",
    "# TODO: solve the problem!\n",
    "incidence_matrix = create_incidence_matrix(edges)\n"
   ]
  },
  {
   "cell_type": "code",
   "execution_count": 6,
   "metadata": {},
   "outputs": [],
   "source": [
    "# Question 2\n",
    "\n",
    "def richardson_iteration(A, b):\n",
    "    x = np.random.rand(A.shape[1], 1)\n",
    "    x_save = [x] # keeps track of x, we use it later to plot the convergence\n",
    "    num_iter = 300\n",
    "    \n",
    "    for i in range(num_iter):\n",
    "        # TODO: fill!\n",
    "        pass\n",
    "    return x, x_save"
   ]
  },
  {
   "cell_type": "code",
   "execution_count": 7,
   "metadata": {},
   "outputs": [
    {
     "name": "stderr",
     "output_type": "stream",
     "text": [
      "/Users/ds/anaconda3/lib/python3.7/site-packages/ipykernel_launcher.py:4: FutureWarning: `rcond` parameter will change to the default of machine precision times ``max(M, N)`` where M and N are the input matrix dimensions.\n",
      "To use the future default and silence this warning we advise to pass `rcond=None`, to keep using the old, explicitly pass `rcond=-1`.\n",
      "  after removing the cwd from sys.path.\n"
     ]
    },
    {
     "data": {
      "image/png": "[encoded data removed]",
      "text/plain": [
       "<Figure size 432x288 with 1 Axes>"
      ]
     },
     "metadata": {
      "needs_background": "light"
     },
     "output_type": "display_data"
    }
   ],
   "source": [
    "m, n = 20, 10\n",
    "A = np.random.rand(m, n)\n",
    "b = np.random.rand(m, 1)\n",
    "x_hat, _, _, _ = np.linalg.lstsq(A, b) # numpy least squares\n",
    "x_iterative, x_save = richardson_iteration(A, b)\n",
    "\n",
    "x_hat = x_hat.reshape(1, -1)\n",
    "x_save = np.array(x_save).reshape(-1, n)\n",
    "diff = np.sum((x_save - x_hat)**2, axis=1)\n",
    "plt.plot(np.arange(diff.shape[0]), diff)\n",
    "plt.show()"
   ]
  },
  {
   "cell_type": "code",
   "execution_count": null,
   "metadata": {},
   "outputs": [],
   "source": []
  },
  {
   "cell_type": "code",
   "execution_count": null,
   "metadata": {},
   "outputs": [],
   "source": []
  }
 ],
 "metadata": {
  "kernelspec": {
   "display_name": "Python 3",
   "language": "python",
   "name": "python3"
  },
  "language_info": {
   "codemirror_mode": {
    "name": "ipython",
    "version": 3
   },
   "file_extension": ".py",
   "mimetype": "text/x-python",
   "name": "python",
   "nbconvert_exporter": "python",
   "pygments_lexer": "ipython3",
   "version": "3.7.3"
  }
 },
 "nbformat": 4,
 "nbformat_minor": 4
}
